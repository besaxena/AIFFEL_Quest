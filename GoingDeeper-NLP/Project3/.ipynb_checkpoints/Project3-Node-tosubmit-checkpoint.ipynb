{
 "cells": [
  {
   "cell_type": "markdown",
   "id": "7ce53e5c",
   "metadata": {},
   "source": [
    "#  9-1 프로젝트 : 모든 장르 간 편향성 측정해 보기\n",
    "\n",
    "<!-- TOC start (generated with https://github.com/derlin/bitdowntoc) -->\n",
    "\n",
    "- [STEP 1. 형태소 분석기를 이용하여 품사가 명사인 경우 해당 단어를 추출하기](#step-1-)\n",
    "- [STEP 2. 추출된 결과로 embedding model 만들기](#step-2-embedding-model-)\n",
    "- [STEP 3. target, attribute 단어 셋 만들기](#step-3-target-attribute-)\n",
    "- [STEP 4. WEAT score 계산과 시각화](#step-4-weat-score-)\n",
    "\n",
    "<!-- TOC end -->\n",
    "\n",
    "\n",
    "\n",
    "<!-- TOC --><a name=\"step-2-embedding-model-\"></a>\n",
    "## STEP 2. 추출된 결과로 embedding model 만들기\n",
    "\n",
    "\n",
    "\n",
    "<!-- TOC --><a name=\"step-3-target-attribute-\"></a>\n",
    "## STEP 3. target, attribute 단어 셋 만들기\n",
    "\n",
    "<!-- TOC --><a name=\"step-4-weat-score-\"></a>\n",
    "## STEP 4. WEAT score 계산과 시각화"
   ]
  },
  {
   "cell_type": "markdown",
   "id": "23bc7e61",
   "metadata": {},
   "source": [
    "<!-- TOC --><a name=\"step-1-\"></a>\n",
    "## STEP 1. 형태소 분석기를 이용하여 품사가 명사인 경우 해당 단어를 추출하기"
   ]
  },
  {
   "cell_type": "code",
   "execution_count": 1,
   "id": "ec328345",
   "metadata": {},
   "outputs": [
    {
     "name": "stdout",
     "output_type": "stream",
     "text": [
      "0.5.2\n",
      "4.1.2\n",
      "1.0\n",
      "0.11.2\n"
     ]
    }
   ],
   "source": [
    "import konlpy\n",
    "import gensim\n",
    "import sklearn\n",
    "import seaborn\n",
    "\n",
    "print(konlpy.__version__)\n",
    "print(gensim.__version__)\n",
    "print(sklearn.__version__)\n",
    "print(seaborn.__version__)"
   ]
  },
  {
   "cell_type": "code",
   "execution_count": 2,
   "id": "ae7b0460",
   "metadata": {},
   "outputs": [],
   "source": [
    "genre_txt = ['synopsis_SF.txt', 'synopsis_family.txt', 'synopsis_show.txt', 'synopsis_horror.txt', 'synopsis_etc.txt', \n",
    "             'synopsis_documentary.txt', 'synopsis_drama.txt', 'synopsis_romance.txt', 'synopsis_musical.txt', \n",
    "             'synopsis_mystery.txt', 'synopsis_crime.txt', 'synopsis_historical.txt', 'synopsis_western.txt', \n",
    "             'synopsis_adult.txt', 'synopsis_thriller.txt', 'synopsis_animation.txt', 'synopsis_action.txt', \n",
    "             'synopsis_adventure.txt', 'synopsis_war.txt', 'synopsis_comedy.txt', 'synopsis_fantasy.txt']\n",
    "genre_name = ['SF', '가족', '공연', '공포(호러)', '기타', '다큐멘터리', '드라마', '멜로로맨스', '뮤지컬', '미스터리', '범죄', '사극', '서부극(웨스턴)',\n",
    "         '성인물(에로)', '스릴러', '애니메이션', '액션', '어드벤처', '전쟁', '코미디', '판타지']"
   ]
  },
  {
   "cell_type": "code",
   "execution_count": null,
   "id": "5d0db29e",
   "metadata": {},
   "outputs": [],
   "source": []
  }
 ],
 "metadata": {
  "kernelspec": {
   "display_name": "Python 3 (ipykernel)",
   "language": "python",
   "name": "python3"
  },
  "language_info": {
   "codemirror_mode": {
    "name": "ipython",
    "version": 3
   },
   "file_extension": ".py",
   "mimetype": "text/x-python",
   "name": "python",
   "nbconvert_exporter": "python",
   "pygments_lexer": "ipython3",
   "version": "3.9.7"
  }
 },
 "nbformat": 4,
 "nbformat_minor": 5
}
