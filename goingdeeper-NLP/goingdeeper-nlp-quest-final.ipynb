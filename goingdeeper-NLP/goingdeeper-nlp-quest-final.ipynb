{
 "cells": [
  {
   "cell_type": "code",
   "execution_count": 1,
   "id": "807d9b4d",
   "metadata": {},
   "outputs": [],
   "source": [
    "import os\n",
    "\n",
    "import matplotlib.pyplot as plt\n",
    "import tensorflow as tf\n",
    "import numpy as np\n",
    "import csv\n",
    "import sentencepiece as spm\n",
    "\n",
    "%matplotlib inline"
   ]
  },
  {
   "cell_type": "markdown",
   "id": "14299aba",
   "metadata": {},
   "source": [
    "# 네이버 영화리뷰 감정 분석 문제에 SentencePiece 적용해 보기"
   ]
  },
  {
   "cell_type": "markdown",
   "id": "8d25ad6b",
   "metadata": {},
   "source": [
    "- [네이버 영화리뷰 데이터](https://github.com/e9t/nsmc/)"
   ]
  },
  {
   "cell_type": "markdown",
   "id": "0c950280",
   "metadata": {},
   "source": [
    "- 네이버 영화리뷰 감정 분석 코퍼스에 SentencePiece를 적용시킨 모델 학습하기\n",
    "- 학습된 모델로 sp_tokenize() 메소드 구현하기\n",
    "- 구현된 토크나이저를 적용하여 네이버 영화리뷰 감정 분석 모델을 재학습하기\n",
    "- KoNLPy 형태소 분석기를 사용한 모델과 성능 비교하기\n",
    "- SentencePiece 모델의 model_type, vocab_size 등을 변경해 가면서 성능 개선 여부 확인하기\n",
    "\n",
    "1. SentencePiece를 이용하여 모델을 만들기까지의 과정이 정상적으로 진행되었는가?\t코퍼스 분석, 전처리, SentencePiece 적용, 토크나이저 구현 및 동작이 빠짐없이 진행되었는가?\n",
    "2. SentencePiece를 통해 만든 Tokenizer가 자연어처리 모델과 결합하여 동작하는가?\tSentencePiece 토크나이저가 적용된 Text Classifier 모델이 정상적으로 수렴하여 80% 이상의 test accuracy가 확인되었다.\n",
    "3. SentencePiece의 성능을 다각도로 비교분석하였는가?\tSentencePiece 토크나이저를 활용했을 때의 성능을 다른 토크나이저 혹은 SentencePiece의 다른 옵션의 경우와 비교하여 분석을 체계적으로 진행하였다."
   ]
  },
  {
   "cell_type": "markdown",
   "id": "753abbd0",
   "metadata": {},
   "source": [
    "```bash\n",
    "git clone https://github.com/e9t/nsmc.git\n",
    "```"
   ]
  },
  {
   "cell_type": "code",
   "execution_count": 2,
   "id": "5674a45e",
   "metadata": {},
   "outputs": [
    {
     "name": "stdout",
     "output_type": "stream",
     "text": [
      "2.6.0\n",
      "1.21.4\n",
      "3.4.3\n",
      "0.5.2\n"
     ]
    }
   ],
   "source": [
    "import tensorflow as tf\n",
    "import numpy as np\n",
    "import matplotlib as plt\n",
    "import konlpy\n",
    "\n",
    "print(tf.__version__)\n",
    "print(np.__version__)\n",
    "print(plt.__version__)\n",
    "print(konlpy.__version__)"
   ]
  },
  {
   "cell_type": "code",
   "execution_count": 3,
   "id": "c54adc61",
   "metadata": {},
   "outputs": [],
   "source": [
    "import pandas as pd"
   ]
  },
  {
   "cell_type": "code",
   "execution_count": 4,
   "id": "94155666",
   "metadata": {},
   "outputs": [],
   "source": [
    "path_to_nsmc = '/aiffel/nsmc/'"
   ]
  },
  {
   "cell_type": "code",
   "execution_count": 5,
   "id": "a0ac37cc",
   "metadata": {},
   "outputs": [
    {
     "data": {
      "text/plain": [
       "['.git',\n",
       " 'raw',\n",
       " 'code',\n",
       " 'ratings.txt',\n",
       " 'ratings_test.txt',\n",
       " 'synopses.json',\n",
       " 'ratings_train.txt',\n",
       " 'README.md']"
      ]
     },
     "execution_count": 5,
     "metadata": {},
     "output_type": "execute_result"
    }
   ],
   "source": [
    "os.listdir(path_to_nsmc)"
   ]
  },
  {
   "cell_type": "code",
   "execution_count": 6,
   "id": "5b65b3c7",
   "metadata": {},
   "outputs": [
    {
     "data": {
      "text/plain": [
       "'/aiffel/nsmc/ratings_train.txt'"
      ]
     },
     "execution_count": 6,
     "metadata": {},
     "output_type": "execute_result"
    }
   ],
   "source": [
    "path_to_nsmc + 'ratings_train.txt'"
   ]
  },
  {
   "cell_type": "code",
   "execution_count": 7,
   "id": "dc0955e4",
   "metadata": {},
   "outputs": [],
   "source": [
    "ratings_train = pd.read_csv(path_to_nsmc + 'ratings_train.txt', sep = '\\t')"
   ]
  },
  {
   "cell_type": "code",
   "execution_count": 8,
   "id": "0780adac",
   "metadata": {},
   "outputs": [
    {
     "data": {
      "text/plain": [
       "(150000, 3)"
      ]
     },
     "execution_count": 8,
     "metadata": {},
     "output_type": "execute_result"
    }
   ],
   "source": [
    "ratings_train.shape"
   ]
  },
  {
   "cell_type": "code",
   "execution_count": 9,
   "id": "b8f8d58e",
   "metadata": {},
   "outputs": [
    {
     "data": {
      "text/plain": [
       "Index(['id', 'document', 'label'], dtype='object')"
      ]
     },
     "execution_count": 9,
     "metadata": {},
     "output_type": "execute_result"
    }
   ],
   "source": [
    "ratings_train.columns"
   ]
  },
  {
   "cell_type": "code",
   "execution_count": 10,
   "id": "cad5001e",
   "metadata": {},
   "outputs": [],
   "source": [
    "ratings_test = pd.read_csv(path_to_nsmc + 'ratings_test.txt', sep = '\\t')"
   ]
  },
  {
   "cell_type": "code",
   "execution_count": 11,
   "id": "2a6faa03",
   "metadata": {},
   "outputs": [
    {
     "data": {
      "text/plain": [
       "(50000, 3)"
      ]
     },
     "execution_count": 11,
     "metadata": {},
     "output_type": "execute_result"
    }
   ],
   "source": [
    "ratings_test.shape"
   ]
  },
  {
   "cell_type": "code",
   "execution_count": 12,
   "id": "54a15740",
   "metadata": {},
   "outputs": [
    {
     "data": {
      "text/plain": [
       "Index(['id', 'document', 'label'], dtype='object')"
      ]
     },
     "execution_count": 12,
     "metadata": {},
     "output_type": "execute_result"
    }
   ],
   "source": [
    "ratings_test.columns"
   ]
  },
  {
   "cell_type": "code",
   "execution_count": 13,
   "id": "47caf57a",
   "metadata": {},
   "outputs": [],
   "source": [
    "ratings = [ratings_train, ratings_test]"
   ]
  },
  {
   "cell_type": "code",
   "execution_count": 14,
   "id": "8b144ad5",
   "metadata": {},
   "outputs": [],
   "source": [
    "ratingsdf = pd.concat(ratings)"
   ]
  },
  {
   "cell_type": "code",
   "execution_count": 15,
   "id": "cc684ed5",
   "metadata": {},
   "outputs": [],
   "source": [
    "def preprocessing(df_row):\n",
    "    \"\"\"\n",
    "    Given is a object from one entry in \n",
    "    dataframe row. \n",
    "    Preprocess that df_row\n",
    "    Input::\n",
    "    - df_row: one entry \n",
    "    Output::\n",
    "    - df_row: preprocessed entry\n",
    "    \"\"\"\n",
    "    t = repr(df_row)\n",
    "    text = [i for i in t]\n",
    "    final_text = ''.join(text)\n",
    "    return final_text.replace(\"'\", \"\")"
   ]
  },
  {
   "cell_type": "code",
   "execution_count": 16,
   "id": "46ec27ea",
   "metadata": {},
   "outputs": [],
   "source": [
    "ratingsdf['text'] = ratingsdf['document'].apply(preprocessing)"
   ]
  },
  {
   "cell_type": "code",
   "execution_count": 17,
   "id": "33a37579",
   "metadata": {},
   "outputs": [],
   "source": [
    "ratingsdf['text_len'] = ratingsdf['text'].str.len()"
   ]
  },
  {
   "cell_type": "code",
   "execution_count": 18,
   "id": "0615eb81",
   "metadata": {},
   "outputs": [],
   "source": [
    "import matplotlib.pyplot as plt\n",
    "import seaborn as sns"
   ]
  },
  {
   "cell_type": "code",
   "execution_count": 19,
   "id": "55670597",
   "metadata": {},
   "outputs": [],
   "source": [
    "sns.set_style('darkgrid')"
   ]
  },
  {
   "cell_type": "code",
   "execution_count": 20,
   "id": "b18f019b",
   "metadata": {},
   "outputs": [
    {
     "data": {
      "text/html": [
       "<div>\n",
       "<style scoped>\n",
       "    .dataframe tbody tr th:only-of-type {\n",
       "        vertical-align: middle;\n",
       "    }\n",
       "\n",
       "    .dataframe tbody tr th {\n",
       "        vertical-align: top;\n",
       "    }\n",
       "\n",
       "    .dataframe thead th {\n",
       "        text-align: right;\n",
       "    }\n",
       "</style>\n",
       "<table border=\"1\" class=\"dataframe\">\n",
       "  <thead>\n",
       "    <tr style=\"text-align: right;\">\n",
       "      <th></th>\n",
       "      <th>id</th>\n",
       "      <th>document</th>\n",
       "      <th>label</th>\n",
       "      <th>text</th>\n",
       "      <th>text_len</th>\n",
       "    </tr>\n",
       "  </thead>\n",
       "  <tbody>\n",
       "    <tr>\n",
       "      <th>0</th>\n",
       "      <td>9976970</td>\n",
       "      <td>아 더빙.. 진짜 짜증나네요 목소리</td>\n",
       "      <td>0</td>\n",
       "      <td>아 더빙.. 진짜 짜증나네요 목소리</td>\n",
       "      <td>19</td>\n",
       "    </tr>\n",
       "    <tr>\n",
       "      <th>1</th>\n",
       "      <td>3819312</td>\n",
       "      <td>흠...포스터보고 초딩영화줄....오버연기조차 가볍지 않구나</td>\n",
       "      <td>1</td>\n",
       "      <td>흠...포스터보고 초딩영화줄....오버연기조차 가볍지 않구나</td>\n",
       "      <td>33</td>\n",
       "    </tr>\n",
       "    <tr>\n",
       "      <th>2</th>\n",
       "      <td>10265843</td>\n",
       "      <td>너무재밓었다그래서보는것을추천한다</td>\n",
       "      <td>0</td>\n",
       "      <td>너무재밓었다그래서보는것을추천한다</td>\n",
       "      <td>17</td>\n",
       "    </tr>\n",
       "    <tr>\n",
       "      <th>3</th>\n",
       "      <td>9045019</td>\n",
       "      <td>교도소 이야기구먼 ..솔직히 재미는 없다..평점 조정</td>\n",
       "      <td>0</td>\n",
       "      <td>교도소 이야기구먼 ..솔직히 재미는 없다..평점 조정</td>\n",
       "      <td>29</td>\n",
       "    </tr>\n",
       "    <tr>\n",
       "      <th>4</th>\n",
       "      <td>6483659</td>\n",
       "      <td>사이몬페그의 익살스런 연기가 돋보였던 영화!스파이더맨에서 늙어보이기만 했던 커스틴 ...</td>\n",
       "      <td>1</td>\n",
       "      <td>사이몬페그의 익살스런 연기가 돋보였던 영화!스파이더맨에서 늙어보이기만 했던 커스틴 ...</td>\n",
       "      <td>61</td>\n",
       "    </tr>\n",
       "    <tr>\n",
       "      <th>...</th>\n",
       "      <td>...</td>\n",
       "      <td>...</td>\n",
       "      <td>...</td>\n",
       "      <td>...</td>\n",
       "      <td>...</td>\n",
       "    </tr>\n",
       "    <tr>\n",
       "      <th>49995</th>\n",
       "      <td>4608761</td>\n",
       "      <td>오랜만에 평점 로긴했네ㅋㅋ 킹왕짱 쌈뽕한 영화를 만났습니다 강렬하게 육쾌함</td>\n",
       "      <td>1</td>\n",
       "      <td>오랜만에 평점 로긴했네ㅋㅋ 킹왕짱 쌈뽕한 영화를 만났습니다 강렬하게 육쾌함</td>\n",
       "      <td>41</td>\n",
       "    </tr>\n",
       "    <tr>\n",
       "      <th>49996</th>\n",
       "      <td>5308387</td>\n",
       "      <td>의지 박약들이나 하는거다 탈영은 일단 주인공 김대희 닮았고 이등병 찐따 OOOO</td>\n",
       "      <td>0</td>\n",
       "      <td>의지 박약들이나 하는거다 탈영은 일단 주인공 김대희 닮았고 이등병 찐따 OOOO</td>\n",
       "      <td>44</td>\n",
       "    </tr>\n",
       "    <tr>\n",
       "      <th>49997</th>\n",
       "      <td>9072549</td>\n",
       "      <td>그림도 좋고 완성도도 높았지만... 보는 내내 불안하게 만든다</td>\n",
       "      <td>0</td>\n",
       "      <td>그림도 좋고 완성도도 높았지만... 보는 내내 불안하게 만든다</td>\n",
       "      <td>34</td>\n",
       "    </tr>\n",
       "    <tr>\n",
       "      <th>49998</th>\n",
       "      <td>5802125</td>\n",
       "      <td>절대 봐서는 안 될 영화.. 재미도 없고 기분만 잡치고.. 한 세트장에서 다 해먹네</td>\n",
       "      <td>0</td>\n",
       "      <td>절대 봐서는 안 될 영화.. 재미도 없고 기분만 잡치고.. 한 세트장에서 다 해먹네</td>\n",
       "      <td>46</td>\n",
       "    </tr>\n",
       "    <tr>\n",
       "      <th>49999</th>\n",
       "      <td>6070594</td>\n",
       "      <td>마무리는 또 왜이래</td>\n",
       "      <td>0</td>\n",
       "      <td>마무리는 또 왜이래</td>\n",
       "      <td>10</td>\n",
       "    </tr>\n",
       "  </tbody>\n",
       "</table>\n",
       "<p>200000 rows × 5 columns</p>\n",
       "</div>"
      ],
      "text/plain": [
       "             id                                           document  label  \\\n",
       "0       9976970                                아 더빙.. 진짜 짜증나네요 목소리      0   \n",
       "1       3819312                  흠...포스터보고 초딩영화줄....오버연기조차 가볍지 않구나      1   \n",
       "2      10265843                                  너무재밓었다그래서보는것을추천한다      0   \n",
       "3       9045019                      교도소 이야기구먼 ..솔직히 재미는 없다..평점 조정      0   \n",
       "4       6483659  사이몬페그의 익살스런 연기가 돋보였던 영화!스파이더맨에서 늙어보이기만 했던 커스틴 ...      1   \n",
       "...         ...                                                ...    ...   \n",
       "49995   4608761          오랜만에 평점 로긴했네ㅋㅋ 킹왕짱 쌈뽕한 영화를 만났습니다 강렬하게 육쾌함      1   \n",
       "49996   5308387       의지 박약들이나 하는거다 탈영은 일단 주인공 김대희 닮았고 이등병 찐따 OOOO      0   \n",
       "49997   9072549                 그림도 좋고 완성도도 높았지만... 보는 내내 불안하게 만든다      0   \n",
       "49998   5802125     절대 봐서는 안 될 영화.. 재미도 없고 기분만 잡치고.. 한 세트장에서 다 해먹네      0   \n",
       "49999   6070594                                         마무리는 또 왜이래      0   \n",
       "\n",
       "                                                    text  text_len  \n",
       "0                                    아 더빙.. 진짜 짜증나네요 목소리        19  \n",
       "1                      흠...포스터보고 초딩영화줄....오버연기조차 가볍지 않구나        33  \n",
       "2                                      너무재밓었다그래서보는것을추천한다        17  \n",
       "3                          교도소 이야기구먼 ..솔직히 재미는 없다..평점 조정        29  \n",
       "4      사이몬페그의 익살스런 연기가 돋보였던 영화!스파이더맨에서 늙어보이기만 했던 커스틴 ...        61  \n",
       "...                                                  ...       ...  \n",
       "49995          오랜만에 평점 로긴했네ㅋㅋ 킹왕짱 쌈뽕한 영화를 만났습니다 강렬하게 육쾌함        41  \n",
       "49996       의지 박약들이나 하는거다 탈영은 일단 주인공 김대희 닮았고 이등병 찐따 OOOO        44  \n",
       "49997                 그림도 좋고 완성도도 높았지만... 보는 내내 불안하게 만든다        34  \n",
       "49998     절대 봐서는 안 될 영화.. 재미도 없고 기분만 잡치고.. 한 세트장에서 다 해먹네        46  \n",
       "49999                                         마무리는 또 왜이래        10  \n",
       "\n",
       "[200000 rows x 5 columns]"
      ]
     },
     "execution_count": 20,
     "metadata": {},
     "output_type": "execute_result"
    }
   ],
   "source": [
    "ratingsdf"
   ]
  },
  {
   "cell_type": "code",
   "execution_count": 21,
   "id": "25b4f5ca",
   "metadata": {},
   "outputs": [],
   "source": [
    "# drop raw text\n",
    "ratingsdf = ratingsdf.drop(['document'],\n",
    "              axis = 1)"
   ]
  },
  {
   "cell_type": "code",
   "execution_count": 22,
   "id": "e936a1d9",
   "metadata": {},
   "outputs": [
    {
     "data": {
      "text/plain": [
       "<AxesSubplot:xlabel='label', ylabel='text_len'>"
      ]
     },
     "execution_count": 22,
     "metadata": {},
     "output_type": "execute_result"
    },
    {
     "data": {
      "image/png": "[encoded data removed]",
      "text/plain": [
       "<Figure size 432x288 with 1 Axes>"
      ]
     },
     "metadata": {},
     "output_type": "display_data"
    }
   ],
   "source": [
    "sns.barplot(x = 'label', y = 'text_len',\n",
    "           data = ratingsdf)"
   ]
  },
  {
   "cell_type": "code",
   "execution_count": 23,
   "id": "0ef68f54",
   "metadata": {},
   "outputs": [
    {
     "name": "stdout",
     "output_type": "stream",
     "text": [
      "문장의 최단 길이: 1\n",
      "문장의 최장 길이: 146\n",
      "문장의 평균 길이: 35\n"
     ]
    },
    {
     "data": {
      "image/png": "[encoded data removed]",
      "text/plain": [
       "<Figure size 432x288 with 1 Axes>"
      ]
     },
     "metadata": {},
     "output_type": "display_data"
    }
   ],
   "source": [
    "min_len = 999\n",
    "max_len = 0\n",
    "sum_len = 0\n",
    "\n",
    "for sen in ratingsdf['text_len']:\n",
    "    length = sen\n",
    "    if min_len > length: min_len = length\n",
    "    if max_len < length: max_len = length\n",
    "    sum_len += length\n",
    "\n",
    "print(\"문장의 최단 길이:\", min_len)\n",
    "print(\"문장의 최장 길이:\", max_len)\n",
    "print(\"문장의 평균 길이:\", sum_len // ratingsdf.shape[0])\n",
    "\n",
    "sentence_length = np.zeros((max_len), dtype=int)\n",
    "\n",
    "for sen in ratingsdf['text_len']:\n",
    "    sentence_length[sen-1] += 1\n",
    "\n",
    "plt.bar(range(max_len), sentence_length, width=1.0)\n",
    "plt.title(\"Sentence Length Distribution\")\n",
    "plt.show()"
   ]
  },
  {
   "cell_type": "code",
   "execution_count": 24,
   "id": "1fc141f6",
   "metadata": {
    "scrolled": true
   },
   "outputs": [
    {
     "name": "stdout",
     "output_type": "stream",
     "text": [
      "아\n",
      "잼\n",
      "1\n",
      "4\n",
      "4\n",
      "굿\n",
      "짱\n",
      "휴\n",
      ".\n",
      "1\n",
      "굿\n",
      "음\n",
      "?\n",
      "?\n",
      "ㅎ\n",
      "굿\n",
      "ㅋ\n",
      "굿\n",
      "즐\n",
      "♥\n",
      "굳\n",
      "ㅋ\n",
      "네\n",
      "ㅎ\n",
      "ㅋ\n",
      "굿\n",
      "ㅇ\n",
      "k\n",
      ".\n",
      "굿\n",
      "굿\n",
      "굳\n",
      "ㅠ\n",
      "?\n",
      "1\n",
      "ㅋ\n",
      "굿\n",
      "쒯\n",
      "굿\n",
      "굿\n",
      "굳\n",
      "♬\n",
      "굿\n",
      "토\n",
      "ㅋ\n",
      "ㅋ\n",
      "굿\n",
      "ㅋ\n",
      "굿\n",
      "O\n",
      "똥\n",
      "ㅎ\n",
      ".\n",
      "굿\n",
      "ㅎ\n",
      "짱\n",
      "굳\n",
      "굿\n",
      "굿\n",
      "짱\n",
      "?\n",
      "z\n",
      "굿\n",
      "짱\n",
      "음\n",
      "굳\n",
      "ㅇ\n",
      "헐\n",
      "굳\n",
      "굳\n",
      "굿\n",
      "굿\n",
      "굿\n",
      "삼\n",
      "꽝\n",
      "굿\n",
      "굿\n",
      "굿\n",
      "굿\n",
      "ㅎ\n",
      "굳\n",
      "굿\n",
      "4\n",
      "!\n",
      "?\n",
      "ㅎ\n",
      "1\n",
      "굳\n",
      ".\n",
      "ㅎ\n",
      "풉\n",
      "아\n",
      "굿\n",
      "똥\n",
      "ㅅ\n",
      "왜\n",
      "ㄴ\n",
      "굳\n",
      "쉣\n",
      "봐\n",
      "z\n"
     ]
    }
   ],
   "source": [
    "def check_sentence_with_length(raw, length):\n",
    "    count = 0\n",
    "    \n",
    "    for sen in raw:\n",
    "        if len(sen) == length:\n",
    "            print(sen)\n",
    "            count += 1\n",
    "            if count > 100: return\n",
    "\n",
    "check_sentence_with_length(raw = ratingsdf['text'], length = 1)"
   ]
  },
  {
   "cell_type": "code",
   "execution_count": 25,
   "id": "8bf66d07",
   "metadata": {},
   "outputs": [
    {
     "name": "stdout",
     "output_type": "stream",
     "text": [
      "Outlier Index: 3\n",
      "Outlier Index: 4\n",
      "Outlier Index: 5\n",
      "Outlier Index: 6\n",
      "Outlier Index: 7\n",
      "Outlier Index: 8\n",
      "Outlier Index: 9\n",
      "Outlier Index: 10\n",
      "Outlier Index: 11\n",
      "Outlier Index: 12\n",
      "Outlier Index: 13\n",
      "Outlier Index: 14\n",
      "Outlier Index: 15\n",
      "Outlier Index: 16\n",
      "Outlier Index: 17\n",
      "Outlier Index: 18\n",
      "Outlier Index: 19\n",
      "Outlier Index: 20\n",
      "Outlier Index: 21\n",
      "Outlier Index: 22\n",
      "Outlier Index: 23\n",
      "Outlier Index: 24\n",
      "Outlier Index: 25\n",
      "Outlier Index: 26\n",
      "Outlier Index: 27\n",
      "Outlier Index: 28\n",
      "Outlier Index: 29\n",
      "Outlier Index: 30\n",
      "Outlier Index: 31\n",
      "Outlier Index: 32\n",
      "Outlier Index: 33\n",
      "Outlier Index: 34\n",
      "Outlier Index: 35\n",
      "Outlier Index: 36\n",
      "Outlier Index: 37\n",
      "Outlier Index: 38\n",
      "Outlier Index: 39\n",
      "Outlier Index: 40\n",
      "Outlier Index: 41\n",
      "Outlier Index: 42\n",
      "Outlier Index: 43\n",
      "Outlier Index: 44\n",
      "Outlier Index: 45\n",
      "Outlier Index: 46\n",
      "Outlier Index: 47\n"
     ]
    }
   ],
   "source": [
    "for idx, _sum in enumerate(sentence_length):\n",
    "    # 문장의 수가 1500을 초과하는 문장 길이를 추출합니다.\n",
    "    if _sum > 1500:\n",
    "        print(\"Outlier Index:\", idx+1)"
   ]
  },
  {
   "cell_type": "code",
   "execution_count": 26,
   "id": "fc3f050f",
   "metadata": {},
   "outputs": [
    {
     "name": "stdout",
     "output_type": "stream",
     "text": [
      "Data Size: 194544\n",
      "문장의 최단 길이: 1\n",
      "문장의 최장 길이: 146\n",
      "문장의 평균 길이: 36\n"
     ]
    },
    {
     "data": {
      "image/png": "[encoded data removed]",
      "text/plain": [
       "<Figure size 432x288 with 1 Axes>"
      ]
     },
     "metadata": {},
     "output_type": "display_data"
    }
   ],
   "source": [
    "min_len = 999\n",
    "max_len = 0\n",
    "sum_len = 0\n",
    "\n",
    "cleaned_corpus = list(set(ratingsdf['text']))  # set를 사용해서 중복을 제거합니다.\n",
    "print(\"Data Size:\", len(cleaned_corpus))\n",
    "\n",
    "for sen in cleaned_corpus:\n",
    "    length = len(sen)\n",
    "    if min_len > length: min_len = length\n",
    "    if max_len < length: max_len = length\n",
    "    sum_len += length\n",
    "\n",
    "print(\"문장의 최단 길이:\", min_len)\n",
    "print(\"문장의 최장 길이:\", max_len)\n",
    "print(\"문장의 평균 길이:\", sum_len // len(cleaned_corpus))\n",
    "\n",
    "sentence_length = np.zeros((max_len), dtype=int)\n",
    "\n",
    "for sen in cleaned_corpus:   # 중복이 제거된 코퍼스 기준\n",
    "    sentence_length[len(sen)-1] += 1\n",
    "\n",
    "plt.bar(range(max_len), sentence_length, width=1.0)\n",
    "plt.title(\"Sentence Length Distribution\")\n",
    "plt.show()"
   ]
  },
  {
   "cell_type": "markdown",
   "id": "219ef7f0",
   "metadata": {},
   "source": [
    "- 중복 제거 후, 평균 길이가 약간 길어졌다"
   ]
  },
  {
   "cell_type": "markdown",
   "id": "878d5691",
   "metadata": {},
   "source": [
    ">  길이 10 이하와 길이 140 이상 제거"
   ]
  },
  {
   "cell_type": "code",
   "execution_count": 27,
   "id": "becb20ae",
   "metadata": {},
   "outputs": [
    {
     "data": {
      "image/png": "[encoded data removed]",
      "text/plain": [
       "<Figure size 432x288 with 1 Axes>"
      ]
     },
     "metadata": {},
     "output_type": "display_data"
    }
   ],
   "source": [
    "max_len = 140\n",
    "min_len = 10\n",
    "\n",
    "# 길이 조건에 맞는 문장만 선택합니다.\n",
    "filtered_corpus = [s for s in cleaned_corpus if (len(s) < max_len) & (len(s) >= min_len)]\n",
    "\n",
    "# 분포도를 다시 그려봅니다.\n",
    "sentence_length = np.zeros((max_len), dtype=int)\n",
    "\n",
    "for sen in filtered_corpus:\n",
    "    sentence_length[len(sen)-1] += 1\n",
    "\n",
    "plt.bar(range(max_len), sentence_length, width=1.0)\n",
    "plt.title(\"Sentence Length Distribution\")\n",
    "plt.show()"
   ]
  },
  {
   "cell_type": "code",
   "execution_count": 28,
   "id": "98ac2909",
   "metadata": {},
   "outputs": [
    {
     "data": {
      "text/plain": [
       "(200000, 4)"
      ]
     },
     "execution_count": 28,
     "metadata": {},
     "output_type": "execute_result"
    }
   ],
   "source": [
    "ratingsdf.shape"
   ]
  },
  {
   "cell_type": "code",
   "execution_count": 29,
   "id": "e2d25acc",
   "metadata": {},
   "outputs": [],
   "source": [
    "matched_ind = ratingsdf['text'].isin(filtered_corpus)"
   ]
  },
  {
   "cell_type": "code",
   "execution_count": 30,
   "id": "f3fe6e19",
   "metadata": {},
   "outputs": [
    {
     "data": {
      "text/plain": [
       "True     181100\n",
       "False     18900\n",
       "Name: text, dtype: int64"
      ]
     },
     "execution_count": 30,
     "metadata": {},
     "output_type": "execute_result"
    }
   ],
   "source": [
    "matched_ind.value_counts()"
   ]
  },
  {
   "cell_type": "code",
   "execution_count": 32,
   "id": "1c4effb3",
   "metadata": {},
   "outputs": [],
   "source": [
    "filtered_labels = ratingsdf[matched_ind]['label']"
   ]
  },
  {
   "cell_type": "code",
   "execution_count": 33,
   "id": "c17cf2d2",
   "metadata": {},
   "outputs": [
    {
     "data": {
      "text/plain": [
       "181100"
      ]
     },
     "execution_count": 33,
     "metadata": {},
     "output_type": "execute_result"
    }
   ],
   "source": [
    "len(filtered_labels)"
   ]
  },
  {
   "cell_type": "code",
   "execution_count": 34,
   "id": "1aa7a5d8",
   "metadata": {},
   "outputs": [],
   "source": [
    "with open('naver_review_cleaned.txt', 'w', encoding='utf8') as f:\n",
    "    f.write('\\n'.join(filtered_corpus))"
   ]
  },
  {
   "cell_type": "markdown",
   "id": "373ca98a",
   "metadata": {},
   "source": [
    "# Sentencepiece 적용하여 tokenize 하기"
   ]
  },
  {
   "cell_type": "markdown",
   "id": "a4d43d0a",
   "metadata": {},
   "source": [
    "- Train the sentencepiece with vocab size of 8000"
   ]
  },
  {
   "cell_type": "code",
   "execution_count": 35,
   "id": "ae484b56",
   "metadata": {},
   "outputs": [
    {
     "name": "stderr",
     "output_type": "stream",
     "text": [
      "sentencepiece_trainer.cc(177) LOG(INFO) Running command: --input=naver_review_cleaned.txt --vocab_size=8000 --model_prefix=naver --model_type=bpe\n",
      "sentencepiece_trainer.cc(77) LOG(INFO) Starts training with : \n",
      "trainer_spec {\n",
      "  input: naver_review_cleaned.txt\n",
      "  input_format: \n",
      "  model_prefix: naver\n",
      "  model_type: BPE\n",
      "  vocab_size: 8000\n",
      "  self_test_sample_size: 0\n",
      "  character_coverage: 0.9995\n",
      "  input_sentence_size: 0\n",
      "  shuffle_input_sentence: 1\n",
      "  seed_sentencepiece_size: 1000000\n",
      "  shrinking_factor: 0.75\n",
      "  max_sentence_length: 4192\n",
      "  num_threads: 16\n",
      "  num_sub_iterations: 2\n",
      "  max_sentencepiece_length: 16\n",
      "  split_by_unicode_script: 1\n",
      "  split_by_number: 1\n",
      "  split_by_whitespace: 1\n",
      "  split_digits: 0\n",
      "  treat_whitespace_as_suffix: 0\n",
      "  allow_whitespace_only_pieces: 0\n",
      "  required_chars: \n",
      "  byte_fallback: 0\n",
      "  vocabulary_output_piece_score: 1\n",
      "  train_extremely_large_corpus: 0\n",
      "  hard_vocab_limit: 1\n",
      "  use_all_vocab: 0\n",
      "  unk_id: 0\n",
      "  bos_id: 1\n",
      "  eos_id: 2\n",
      "  pad_id: -1\n",
      "  unk_piece: <unk>\n",
      "  bos_piece: <s>\n",
      "  eos_piece: </s>\n",
      "  pad_piece: <pad>\n",
      "  unk_surface:  ⁇ \n",
      "}\n",
      "normalizer_spec {\n",
      "  name: nmt_nfkc\n",
      "  add_dummy_prefix: 1\n",
      "  remove_extra_whitespaces: 1\n",
      "  escape_whitespaces: 1\n",
      "  normalization_rule_tsv: \n",
      "}\n",
      "denormalizer_spec {}\n",
      "trainer_interface.cc(329) LOG(INFO) SentenceIterator is not specified. Using MultiFileSentenceIterator.\n",
      "trainer_interface.cc(178) LOG(INFO) Loading corpus: naver_review_cleaned.txt\n",
      "trainer_interface.cc(385) LOG(INFO) Loaded all 180321 sentences\n",
      "trainer_interface.cc(400) LOG(INFO) Adding meta_piece: <unk>\n",
      "trainer_interface.cc(400) LOG(INFO) Adding meta_piece: <s>\n",
      "trainer_interface.cc(400) LOG(INFO) Adding meta_piece: </s>\n",
      "trainer_interface.cc(405) LOG(INFO) Normalizing sentences...\n",
      "trainer_interface.cc(466) LOG(INFO) all chars count=6919822\n",
      "trainer_interface.cc(477) LOG(INFO) Done: 99.95% characters are covered.\n",
      "trainer_interface.cc(487) LOG(INFO) Alphabet size=1712\n",
      "trainer_interface.cc(488) LOG(INFO) Final character coverage=0.9995\n",
      "trainer_interface.cc(520) LOG(INFO) Done! preprocessed 180321 sentences.\n",
      "trainer_interface.cc(526) LOG(INFO) Tokenizing input sentences with whitespace: 180321\n",
      "trainer_interface.cc(537) LOG(INFO) Done! 433477\n",
      "bpe_model_trainer.cc(167) LOG(INFO) Updating active symbols. max_freq=93356 min_freq=98\n",
      "bpe_model_trainer.cc(258) LOG(INFO) Added: freq=13954 size=20 all=121470 active=11483 piece=▁어\n",
      "bpe_model_trainer.cc(258) LOG(INFO) Added: freq=11345 size=40 all=126448 active=16461 piece=▁1\n",
      "bpe_model_trainer.cc(258) LOG(INFO) Added: freq=8128 size=60 all=130176 active=20189 piece=▁생\n",
      "bpe_model_trainer.cc(258) LOG(INFO) Added: freq=6663 size=80 all=134776 active=24789 piece=▁말\n",
      "bpe_model_trainer.cc(258) LOG(INFO) Added: freq=5356 size=100 all=138572 active=28585 piece=▁감동\n",
      "bpe_model_trainer.cc(167) LOG(INFO) Updating active symbols. max_freq=5249 min_freq=82\n",
      "bpe_model_trainer.cc(258) LOG(INFO) Added: freq=4596 size=120 all=141769 active=10028 piece=▁2\n",
      "bpe_model_trainer.cc(258) LOG(INFO) Added: freq=4100 size=140 all=144650 active=12909 piece=적인\n",
      "bpe_model_trainer.cc(258) LOG(INFO) Added: freq=3635 size=160 all=147554 active=15813 piece=▁다시\n",
      "bpe_model_trainer.cc(258) LOG(INFO) Added: freq=3386 size=180 all=149850 active=18109 piece=▁좋은\n",
      "bpe_model_trainer.cc(258) LOG(INFO) Added: freq=3056 size=200 all=152665 active=20924 piece=▁원\n",
      "bpe_model_trainer.cc(167) LOG(INFO) Updating active symbols. max_freq=3038 min_freq=73\n",
      "bpe_model_trainer.cc(258) LOG(INFO) Added: freq=2815 size=220 all=155136 active=9975 piece=▁의\n",
      "bpe_model_trainer.cc(258) LOG(INFO) Added: freq=2658 size=240 all=158586 active=13425 piece=들은\n",
      "bpe_model_trainer.cc(258) LOG(INFO) Added: freq=2432 size=260 all=161657 active=16496 piece=▁강\n",
      "bpe_model_trainer.cc(258) LOG(INFO) Added: freq=2297 size=280 all=164464 active=19303 piece=▁따\n",
      "bpe_model_trainer.cc(258) LOG(INFO) Added: freq=2162 size=300 all=166616 active=21455 piece=▁당\n",
      "bpe_model_trainer.cc(167) LOG(INFO) Updating active symbols. max_freq=2140 min_freq=66\n",
      "bpe_model_trainer.cc(258) LOG(INFO) Added: freq=1980 size=320 all=168687 active=10345 piece=▁발\n",
      "bpe_model_trainer.cc(258) LOG(INFO) Added: freq=1864 size=340 all=171190 active=12847 piece=▁같은\n",
      "bpe_model_trainer.cc(258) LOG(INFO) Added: freq=1790 size=360 all=173645 active=15302 piece=▁표\n",
      "bpe_model_trainer.cc(258) LOG(INFO) Added: freq=1696 size=380 all=175909 active=17566 piece=시간\n",
      "bpe_model_trainer.cc(258) LOG(INFO) Added: freq=1611 size=400 all=178600 active=20257 piece=▁속\n",
      "bpe_model_trainer.cc(167) LOG(INFO) Updating active symbols. max_freq=1610 min_freq=60\n",
      "bpe_model_trainer.cc(258) LOG(INFO) Added: freq=1556 size=420 all=180495 active=10745 piece=▁아깝다\n",
      "bpe_model_trainer.cc(258) LOG(INFO) Added: freq=1497 size=440 all=182099 active=12349 piece=▁있다\n",
      "bpe_model_trainer.cc(258) LOG(INFO) Added: freq=1433 size=460 all=184482 active=14732 piece=▁음악\n",
      "bpe_model_trainer.cc(258) LOG(INFO) Added: freq=1375 size=480 all=186141 active=16391 piece=▁아직\n",
      "bpe_model_trainer.cc(258) LOG(INFO) Added: freq=1316 size=500 all=188333 active=18583 piece=밖에\n",
      "bpe_model_trainer.cc(167) LOG(INFO) Updating active symbols. max_freq=1314 min_freq=56\n",
      "bpe_model_trainer.cc(258) LOG(INFO) Added: freq=1254 size=520 all=190437 active=11323 piece=▁받\n",
      "bpe_model_trainer.cc(258) LOG(INFO) Added: freq=1201 size=540 all=192098 active=12984 piece=▁코미디\n",
      "bpe_model_trainer.cc(258) LOG(INFO) Added: freq=1153 size=560 all=194185 active=15071 piece=▁출\n",
      "bpe_model_trainer.cc(258) LOG(INFO) Added: freq=1122 size=580 all=196700 active=17586 piece=▁가족\n",
      "bpe_model_trainer.cc(258) LOG(INFO) Added: freq=1095 size=600 all=199091 active=19977 piece=▁재미있게\n",
      "bpe_model_trainer.cc(167) LOG(INFO) Updating active symbols. max_freq=1094 min_freq=52\n",
      "bpe_model_trainer.cc(258) LOG(INFO) Added: freq=1062 size=620 all=201018 active=11865 piece=기는\n",
      "bpe_model_trainer.cc(258) LOG(INFO) Added: freq=1024 size=640 all=203338 active=14185 piece=10\n",
      "bpe_model_trainer.cc(258) LOG(INFO) Added: freq=995 size=660 all=205293 active=16140 piece=▁않은\n",
      "bpe_model_trainer.cc(258) LOG(INFO) Added: freq=971 size=680 all=207657 active=18504 piece=성이\n",
      "bpe_model_trainer.cc(258) LOG(INFO) Added: freq=942 size=700 all=209336 active=20183 piece=인듯\n",
      "bpe_model_trainer.cc(167) LOG(INFO) Updating active symbols. max_freq=942 min_freq=48\n",
      "bpe_model_trainer.cc(258) LOG(INFO) Added: freq=914 size=720 all=211422 active=12273 piece=▁알바\n",
      "bpe_model_trainer.cc(258) LOG(INFO) Added: freq=882 size=740 all=213065 active=13916 piece=▁어설\n",
      "bpe_model_trainer.cc(258) LOG(INFO) Added: freq=850 size=760 all=214469 active=15320 piece=▁보게\n",
      "bpe_model_trainer.cc(258) LOG(INFO) Added: freq=832 size=780 all=215630 active=16481 piece=▁출연\n",
      "bpe_model_trainer.cc(258) LOG(INFO) Added: freq=822 size=800 all=217202 active=18053 piece=▁절대\n",
      "bpe_model_trainer.cc(167) LOG(INFO) Updating active symbols. max_freq=820 min_freq=46\n",
      "bpe_model_trainer.cc(258) LOG(INFO) Added: freq=801 size=820 all=218869 active=12478 piece=으로도\n",
      "bpe_model_trainer.cc(258) LOG(INFO) Added: freq=779 size=840 all=220333 active=13942 piece=▁도대체\n",
      "bpe_model_trainer.cc(258) LOG(INFO) Added: freq=757 size=860 all=221997 active=15606 piece=▁오랜만에\n",
      "bpe_model_trainer.cc(258) LOG(INFO) Added: freq=744 size=880 all=223280 active=16889 piece=▁용\n",
      "bpe_model_trainer.cc(258) LOG(INFO) Added: freq=728 size=900 all=224489 active=18097 piece=성도\n",
      "bpe_model_trainer.cc(167) LOG(INFO) Updating active symbols. max_freq=728 min_freq=44\n",
      "bpe_model_trainer.cc(258) LOG(INFO) Added: freq=713 size=920 all=226106 active=12745 piece=▁청\n",
      "bpe_model_trainer.cc(258) LOG(INFO) Added: freq=697 size=940 all=227284 active=13923 piece=ᄍᄍ\n",
      "bpe_model_trainer.cc(258) LOG(INFO) Added: freq=685 size=960 all=228567 active=15206 piece=▁잡\n",
      "bpe_model_trainer.cc(258) LOG(INFO) Added: freq=670 size=980 all=229778 active=16417 piece=아까\n",
      "bpe_model_trainer.cc(258) LOG(INFO) Added: freq=658 size=1000 all=230642 active=17281 piece=▁연기는\n",
      "bpe_model_trainer.cc(167) LOG(INFO) Updating active symbols. max_freq=656 min_freq=42\n",
      "bpe_model_trainer.cc(258) LOG(INFO) Added: freq=646 size=1020 all=232443 active=13327 piece=▁그렇게\n",
      "bpe_model_trainer.cc(258) LOG(INFO) Added: freq=631 size=1040 all=233862 active=14746 piece=주의\n",
      "bpe_model_trainer.cc(258) LOG(INFO) Added: freq=615 size=1060 all=235598 active=16482 piece=▁얘\n",
      "bpe_model_trainer.cc(258) LOG(INFO) Added: freq=600 size=1080 all=237009 active=17893 piece=▁지루하다\n",
      "bpe_model_trainer.cc(258) LOG(INFO) Added: freq=586 size=1100 all=238612 active=19496 piece=▁모르겠다\n",
      "bpe_model_trainer.cc(167) LOG(INFO) Updating active symbols. max_freq=585 min_freq=40\n",
      "bpe_model_trainer.cc(258) LOG(INFO) Added: freq=573 size=1120 all=239694 active=12996 piece=▁느낌이\n",
      "bpe_model_trainer.cc(258) LOG(INFO) Added: freq=560 size=1140 all=240864 active=14166 piece=▁후반\n",
      "bpe_model_trainer.cc(258) LOG(INFO) Added: freq=550 size=1160 all=242249 active=15551 piece=▁말도\n",
      "bpe_model_trainer.cc(258) LOG(INFO) Added: freq=540 size=1180 all=243623 active=16925 piece=▁여주인공\n",
      "bpe_model_trainer.cc(258) LOG(INFO) Added: freq=526 size=1200 all=244843 active=18145 piece=▁없었다\n",
      "bpe_model_trainer.cc(167) LOG(INFO) Updating active symbols. max_freq=525 min_freq=38\n",
      "bpe_model_trainer.cc(258) LOG(INFO) Added: freq=515 size=1220 all=246617 active=14000 piece=▁누가\n",
      "bpe_model_trainer.cc(258) LOG(INFO) Added: freq=501 size=1240 all=248095 active=15478 piece=보게\n",
      "bpe_model_trainer.cc(258) LOG(INFO) Added: freq=493 size=1260 all=249089 active=16472 piece=대한\n",
      "bpe_model_trainer.cc(258) LOG(INFO) Added: freq=484 size=1280 all=250579 active=17961 piece=▁초딩\n",
      "bpe_model_trainer.cc(258) LOG(INFO) Added: freq=472 size=1300 all=252474 active=19856 piece=▁노잼\n",
      "bpe_model_trainer.cc(167) LOG(INFO) Updating active symbols. max_freq=472 min_freq=37\n",
      "bpe_model_trainer.cc(258) LOG(INFO) Added: freq=465 size=1320 all=253928 active=14031 piece=▁귀엽\n",
      "bpe_model_trainer.cc(258) LOG(INFO) Added: freq=458 size=1340 all=255027 active=15130 piece=▁생각보다\n",
      "bpe_model_trainer.cc(258) LOG(INFO) Added: freq=452 size=1360 all=256549 active=16652 piece=▁두번\n",
      "bpe_model_trainer.cc(258) LOG(INFO) Added: freq=444 size=1380 all=257730 active=17833 piece=▁틀\n",
      "bpe_model_trainer.cc(258) LOG(INFO) Added: freq=437 size=1400 all=258762 active=18865 piece=되고\n",
      "bpe_model_trainer.cc(167) LOG(INFO) Updating active symbols. max_freq=437 min_freq=35\n",
      "bpe_model_trainer.cc(258) LOG(INFO) Added: freq=432 size=1420 all=260386 active=14393 piece=▁여배우\n",
      "bpe_model_trainer.cc(258) LOG(INFO) Added: freq=423 size=1440 all=261486 active=15493 piece=거나\n",
      "bpe_model_trainer.cc(258) LOG(INFO) Added: freq=416 size=1460 all=262535 active=16542 piece=▁멜로\n",
      "bpe_model_trainer.cc(258) LOG(INFO) Added: freq=409 size=1480 all=263500 active=17507 piece=였음\n",
      "bpe_model_trainer.cc(258) LOG(INFO) Added: freq=402 size=1500 all=264924 active=18931 piece=을텐데\n",
      "bpe_model_trainer.cc(167) LOG(INFO) Updating active symbols. max_freq=401 min_freq=34\n",
      "bpe_model_trainer.cc(258) LOG(INFO) Added: freq=394 size=1520 all=266079 active=14326 piece=▁개그\n",
      "bpe_model_trainer.cc(258) LOG(INFO) Added: freq=388 size=1540 all=267327 active=15574 piece=기대\n",
      "bpe_model_trainer.cc(258) LOG(INFO) Added: freq=381 size=1560 all=268564 active=16811 piece=▁예쁘\n",
      "bpe_model_trainer.cc(258) LOG(INFO) Added: freq=376 size=1580 all=269601 active=17848 piece=▁해도\n",
      "bpe_model_trainer.cc(258) LOG(INFO) Added: freq=371 size=1600 all=270372 active=18619 piece=▁만드\n",
      "bpe_model_trainer.cc(167) LOG(INFO) Updating active symbols. max_freq=371 min_freq=33\n",
      "bpe_model_trainer.cc(258) LOG(INFO) Added: freq=367 size=1620 all=271507 active=14624 piece=▁못하는\n",
      "bpe_model_trainer.cc(258) LOG(INFO) Added: freq=363 size=1640 all=272501 active=15618 piece=했어요\n",
      "bpe_model_trainer.cc(258) LOG(INFO) Added: freq=357 size=1660 all=273638 active=16755 piece=근데\n",
      "bpe_model_trainer.cc(258) LOG(INFO) Added: freq=350 size=1680 all=275157 active=18274 piece=시리즈\n",
      "bpe_model_trainer.cc(258) LOG(INFO) Added: freq=344 size=1700 all=276362 active=19479 piece=▁감성\n",
      "bpe_model_trainer.cc(167) LOG(INFO) Updating active symbols. max_freq=344 min_freq=32\n",
      "bpe_model_trainer.cc(258) LOG(INFO) Added: freq=340 size=1720 all=277538 active=14942 piece=▁나이\n",
      "bpe_model_trainer.cc(258) LOG(INFO) Added: freq=336 size=1740 all=278576 active=15980 piece=▁어쩔\n",
      "bpe_model_trainer.cc(258) LOG(INFO) Added: freq=332 size=1760 all=279668 active=17072 piece=▁어려\n",
      "bpe_model_trainer.cc(258) LOG(INFO) Added: freq=327 size=1780 all=280862 active=18266 piece=▁80\n",
      "bpe_model_trainer.cc(258) LOG(INFO) Added: freq=323 size=1800 all=281658 active=19062 piece=되어\n",
      "bpe_model_trainer.cc(167) LOG(INFO) Updating active symbols. max_freq=323 min_freq=31\n",
      "bpe_model_trainer.cc(258) LOG(INFO) Added: freq=319 size=1820 all=282744 active=15026 piece=리게\n",
      "bpe_model_trainer.cc(258) LOG(INFO) Added: freq=316 size=1840 all=284060 active=16342 piece=▁해야\n",
      "bpe_model_trainer.cc(258) LOG(INFO) Added: freq=311 size=1860 all=284902 active=17184 piece=하다고\n",
      "bpe_model_trainer.cc(258) LOG(INFO) Added: freq=307 size=1880 all=286239 active=18521 piece=▁것이다\n",
      "bpe_model_trainer.cc(258) LOG(INFO) Added: freq=304 size=1900 all=287335 active=19617 piece=▁있음\n",
      "bpe_model_trainer.cc(167) LOG(INFO) Updating active symbols. max_freq=304 min_freq=30\n",
      "bpe_model_trainer.cc(258) LOG(INFO) Added: freq=298 size=1920 all=288235 active=15254 piece=웃음\n",
      "bpe_model_trainer.cc(258) LOG(INFO) Added: freq=295 size=1940 all=289131 active=16150 piece=명작\n",
      "bpe_model_trainer.cc(258) LOG(INFO) Added: freq=293 size=1960 all=290218 active=17237 piece=▁오히려\n",
      "bpe_model_trainer.cc(258) LOG(INFO) Added: freq=289 size=1980 all=291016 active=18035 piece=심이\n",
      "bpe_model_trainer.cc(258) LOG(INFO) Added: freq=287 size=2000 all=292091 active=19110 piece=▁유명\n",
      "bpe_model_trainer.cc(167) LOG(INFO) Updating active symbols. max_freq=287 min_freq=29\n",
      "bpe_model_trainer.cc(258) LOG(INFO) Added: freq=284 size=2020 all=293458 active=15937 piece=▁나쁘\n",
      "bpe_model_trainer.cc(258) LOG(INFO) Added: freq=281 size=2040 all=294490 active=16969 piece=▁재미없고\n",
      "bpe_model_trainer.cc(258) LOG(INFO) Added: freq=277 size=2060 all=295141 active=17620 piece=▁노출\n",
      "bpe_model_trainer.cc(258) LOG(INFO) Added: freq=273 size=2080 all=296301 active=18780 piece=▁관계\n",
      "bpe_model_trainer.cc(258) LOG(INFO) Added: freq=271 size=2100 all=297407 active=19886 piece=▁이러\n",
      "bpe_model_trainer.cc(167) LOG(INFO) Updating active symbols. max_freq=271 min_freq=28\n",
      "bpe_model_trainer.cc(258) LOG(INFO) Added: freq=268 size=2120 all=298241 active=15667 piece=▁현재\n",
      "bpe_model_trainer.cc(258) LOG(INFO) Added: freq=265 size=2140 all=299139 active=16565 piece=▁나만\n",
      "bpe_model_trainer.cc(258) LOG(INFO) Added: freq=261 size=2160 all=299966 active=17392 piece=르고\n"
     ]
    },
    {
     "name": "stderr",
     "output_type": "stream",
     "text": [
      "bpe_model_trainer.cc(258) LOG(INFO) Added: freq=257 size=2180 all=300655 active=18081 piece=물이\n",
      "bpe_model_trainer.cc(258) LOG(INFO) Added: freq=255 size=2200 all=301817 active=19243 piece=▁삶을\n",
      "bpe_model_trainer.cc(167) LOG(INFO) Updating active symbols. max_freq=255 min_freq=27\n",
      "bpe_model_trainer.cc(258) LOG(INFO) Added: freq=253 size=2220 all=302854 active=16125 piece=▁영화중에\n",
      "bpe_model_trainer.cc(258) LOG(INFO) Added: freq=250 size=2240 all=304308 active=17579 piece=▁성공\n",
      "bpe_model_trainer.cc(258) LOG(INFO) Added: freq=248 size=2260 all=304917 active=18188 piece=하던\n",
      "bpe_model_trainer.cc(258) LOG(INFO) Added: freq=246 size=2280 all=305900 active=19171 piece=해주는\n",
      "bpe_model_trainer.cc(258) LOG(INFO) Added: freq=244 size=2300 all=306908 active=20179 piece=▁얻\n",
      "bpe_model_trainer.cc(167) LOG(INFO) Updating active symbols. max_freq=244 min_freq=27\n",
      "bpe_model_trainer.cc(258) LOG(INFO) Added: freq=242 size=2320 all=307759 active=16165 piece=▁실패\n",
      "bpe_model_trainer.cc(258) LOG(INFO) Added: freq=238 size=2340 all=308872 active=17278 piece=새끼\n",
      "bpe_model_trainer.cc(258) LOG(INFO) Added: freq=236 size=2360 all=309864 active=18270 piece=▁좋았는데\n",
      "bpe_model_trainer.cc(258) LOG(INFO) Added: freq=233 size=2380 all=310506 active=18912 piece=▁곳\n",
      "bpe_model_trainer.cc(258) LOG(INFO) Added: freq=231 size=2400 all=311501 active=19907 piece=▁보지마세요\n",
      "bpe_model_trainer.cc(167) LOG(INFO) Updating active symbols. max_freq=230 min_freq=26\n",
      "bpe_model_trainer.cc(258) LOG(INFO) Added: freq=229 size=2420 all=312548 active=16615 piece=▁어이없는\n",
      "bpe_model_trainer.cc(258) LOG(INFO) Added: freq=227 size=2440 all=313501 active=17568 piece=▁의외\n",
      "bpe_model_trainer.cc(258) LOG(INFO) Added: freq=225 size=2460 all=314361 active=18428 piece=▁어색한\n",
      "bpe_model_trainer.cc(258) LOG(INFO) Added: freq=222 size=2480 all=315134 active=19201 piece=▁했던\n",
      "bpe_model_trainer.cc(258) LOG(INFO) Added: freq=219 size=2500 all=316033 active=20100 piece=▁사극\n",
      "bpe_model_trainer.cc(167) LOG(INFO) Updating active symbols. max_freq=219 min_freq=25\n",
      "bpe_model_trainer.cc(258) LOG(INFO) Added: freq=217 size=2520 all=316951 active=16661 piece=▁봤다가\n",
      "bpe_model_trainer.cc(258) LOG(INFO) Added: freq=215 size=2540 all=317689 active=17399 piece=▁제작진\n",
      "bpe_model_trainer.cc(258) LOG(INFO) Added: freq=213 size=2560 all=318307 active=18017 piece=펑펑\n",
      "bpe_model_trainer.cc(258) LOG(INFO) Added: freq=212 size=2580 all=319043 active=18753 piece=▁아까워\n",
      "bpe_model_trainer.cc(258) LOG(INFO) Added: freq=209 size=2600 all=319906 active=19616 piece=던지\n",
      "bpe_model_trainer.cc(167) LOG(INFO) Updating active symbols. max_freq=209 min_freq=25\n",
      "bpe_model_trainer.cc(258) LOG(INFO) Added: freq=208 size=2620 all=320828 active=16807 piece=▁씬\n",
      "bpe_model_trainer.cc(258) LOG(INFO) Added: freq=207 size=2640 all=321931 active=17910 piece=▁그럼\n",
      "bpe_model_trainer.cc(258) LOG(INFO) Added: freq=206 size=2660 all=322470 active=18449 piece=▁몰입이\n",
      "bpe_model_trainer.cc(258) LOG(INFO) Added: freq=203 size=2680 all=323155 active=19134 piece=한국\n",
      "bpe_model_trainer.cc(258) LOG(INFO) Added: freq=201 size=2700 all=324022 active=20001 piece=까진\n",
      "bpe_model_trainer.cc(167) LOG(INFO) Updating active symbols. max_freq=201 min_freq=24\n",
      "bpe_model_trainer.cc(258) LOG(INFO) Added: freq=200 size=2720 all=324988 active=17069 piece=▁현실을\n",
      "bpe_model_trainer.cc(258) LOG(INFO) Added: freq=197 size=2740 all=325867 active=17948 piece=이유\n",
      "bpe_model_trainer.cc(258) LOG(INFO) Added: freq=196 size=2760 all=326895 active=18976 piece=▁감동과\n",
      "bpe_model_trainer.cc(258) LOG(INFO) Added: freq=194 size=2780 all=327709 active=19790 piece=▁보시\n",
      "bpe_model_trainer.cc(258) LOG(INFO) Added: freq=192 size=2800 all=328502 active=20583 piece=▁챙\n",
      "bpe_model_trainer.cc(167) LOG(INFO) Updating active symbols. max_freq=192 min_freq=24\n",
      "bpe_model_trainer.cc(258) LOG(INFO) Added: freq=191 size=2820 all=329571 active=17484 piece=▁아련\n",
      "bpe_model_trainer.cc(258) LOG(INFO) Added: freq=190 size=2840 all=330264 active=18177 piece=▁희생\n",
      "bpe_model_trainer.cc(258) LOG(INFO) Added: freq=189 size=2860 all=330999 active=18912 piece=▁비주얼\n",
      "bpe_model_trainer.cc(258) LOG(INFO) Added: freq=187 size=2880 all=331828 active=19741 piece=▁불쾌\n",
      "bpe_model_trainer.cc(258) LOG(INFO) Added: freq=186 size=2900 all=332415 active=20328 piece=▁보고싶다\n",
      "bpe_model_trainer.cc(167) LOG(INFO) Updating active symbols. max_freq=186 min_freq=23\n",
      "bpe_model_trainer.cc(258) LOG(INFO) Added: freq=184 size=2920 all=333325 active=17517 piece=르노\n",
      "bpe_model_trainer.cc(258) LOG(INFO) Added: freq=183 size=2940 all=334293 active=18485 piece=▁의심\n",
      "bpe_model_trainer.cc(258) LOG(INFO) Added: freq=181 size=2960 all=334997 active=19189 piece=▁싶어\n",
      "bpe_model_trainer.cc(258) LOG(INFO) Added: freq=179 size=2980 all=335909 active=20101 piece=▁체\n",
      "bpe_model_trainer.cc(258) LOG(INFO) Added: freq=178 size=3000 all=336860 active=21052 piece=영화라\n",
      "bpe_model_trainer.cc(167) LOG(INFO) Updating active symbols. max_freq=178 min_freq=23\n",
      "bpe_model_trainer.cc(258) LOG(INFO) Added: freq=176 size=3020 all=337684 active=17549 piece=감도\n",
      "bpe_model_trainer.cc(258) LOG(INFO) Added: freq=175 size=3040 all=338429 active=18294 piece=로도\n",
      "bpe_model_trainer.cc(258) LOG(INFO) Added: freq=174 size=3060 all=339042 active=18907 piece=있어\n",
      "bpe_model_trainer.cc(258) LOG(INFO) Added: freq=173 size=3080 all=339915 active=19780 piece=▁성인\n",
      "bpe_model_trainer.cc(258) LOG(INFO) Added: freq=172 size=3100 all=340588 active=20453 piece=▁산으로\n",
      "bpe_model_trainer.cc(167) LOG(INFO) Updating active symbols. max_freq=172 min_freq=22\n",
      "bpe_model_trainer.cc(258) LOG(INFO) Added: freq=170 size=3120 all=341496 active=17927 piece=▁고등\n",
      "bpe_model_trainer.cc(258) LOG(INFO) Added: freq=169 size=3140 all=342154 active=18585 piece=▁발전\n",
      "bpe_model_trainer.cc(258) LOG(INFO) Added: freq=168 size=3160 all=342928 active=19359 piece=▁일부\n",
      "bpe_model_trainer.cc(258) LOG(INFO) Added: freq=167 size=3180 all=343785 active=20216 piece=▁잊을\n",
      "bpe_model_trainer.cc(258) LOG(INFO) Added: freq=166 size=3200 all=344635 active=21066 piece=▁놀랐\n",
      "bpe_model_trainer.cc(167) LOG(INFO) Updating active symbols. max_freq=166 min_freq=22\n",
      "bpe_model_trainer.cc(258) LOG(INFO) Added: freq=165 size=3220 all=345353 active=17936 piece=▁좀더\n",
      "bpe_model_trainer.cc(258) LOG(INFO) Added: freq=164 size=3240 all=345850 active=18433 piece=▁만든다\n",
      "bpe_model_trainer.cc(258) LOG(INFO) Added: freq=162 size=3260 all=346608 active=19191 piece=중의\n",
      "bpe_model_trainer.cc(258) LOG(INFO) Added: freq=161 size=3280 all=347085 active=19668 piece=▁싱\n",
      "bpe_model_trainer.cc(258) LOG(INFO) Added: freq=160 size=3300 all=347794 active=20377 piece=노래\n",
      "bpe_model_trainer.cc(167) LOG(INFO) Updating active symbols. max_freq=160 min_freq=21\n",
      "bpe_model_trainer.cc(258) LOG(INFO) Added: freq=159 size=3320 all=348773 active=18248 piece=▁민망\n",
      "bpe_model_trainer.cc(258) LOG(INFO) Added: freq=158 size=3340 all=349782 active=19257 piece=▁바뀌\n",
      "bpe_model_trainer.cc(258) LOG(INFO) Added: freq=157 size=3360 all=350214 active=19689 piece=▁본영화\n",
      "bpe_model_trainer.cc(258) LOG(INFO) Added: freq=156 size=3380 all=350782 active=20257 piece=▁영화인듯\n",
      "bpe_model_trainer.cc(258) LOG(INFO) Added: freq=155 size=3400 all=351546 active=21021 piece=▁쓰레기다\n",
      "bpe_model_trainer.cc(167) LOG(INFO) Updating active symbols. max_freq=154 min_freq=21\n",
      "bpe_model_trainer.cc(258) LOG(INFO) Added: freq=153 size=3420 all=352059 active=18084 piece=부족\n",
      "bpe_model_trainer.cc(258) LOG(INFO) Added: freq=152 size=3440 all=352908 active=18933 piece=▁가져\n",
      "bpe_model_trainer.cc(258) LOG(INFO) Added: freq=151 size=3460 all=353600 active=19625 piece=▁은근\n",
      "bpe_model_trainer.cc(258) LOG(INFO) Added: freq=150 size=3480 all=354248 active=20273 piece=▁신파\n",
      "bpe_model_trainer.cc(258) LOG(INFO) Added: freq=149 size=3500 all=354866 active=20891 piece=▁제이\n",
      "bpe_model_trainer.cc(167) LOG(INFO) Updating active symbols. max_freq=149 min_freq=21\n",
      "bpe_model_trainer.cc(258) LOG(INFO) Added: freq=148 size=3520 all=355418 active=18288 piece=었을까\n",
      "bpe_model_trainer.cc(258) LOG(INFO) Added: freq=147 size=3540 all=356016 active=18886 piece=▁볼거리\n",
      "bpe_model_trainer.cc(258) LOG(INFO) Added: freq=146 size=3560 all=356617 active=19487 piece=▁암튼\n",
      "bpe_model_trainer.cc(258) LOG(INFO) Added: freq=145 size=3580 all=357443 active=20313 piece=영환\n",
      "bpe_model_trainer.cc(258) LOG(INFO) Added: freq=144 size=3600 all=358210 active=21080 piece=이걸\n",
      "bpe_model_trainer.cc(167) LOG(INFO) Updating active symbols. max_freq=144 min_freq=20\n",
      "bpe_model_trainer.cc(258) LOG(INFO) Added: freq=143 size=3620 all=358878 active=18516 piece=냐고\n",
      "bpe_model_trainer.cc(258) LOG(INFO) Added: freq=142 size=3640 all=359609 active=19247 piece=▁고마\n",
      "bpe_model_trainer.cc(258) LOG(INFO) Added: freq=141 size=3660 all=359946 active=19584 piece=테일\n",
      "bpe_model_trainer.cc(258) LOG(INFO) Added: freq=140 size=3680 all=360805 active=20443 piece=▁깨달\n",
      "bpe_model_trainer.cc(258) LOG(INFO) Added: freq=139 size=3700 all=361514 active=21152 piece=▁조선\n",
      "bpe_model_trainer.cc(167) LOG(INFO) Updating active symbols. max_freq=139 min_freq=20\n",
      "bpe_model_trainer.cc(258) LOG(INFO) Added: freq=138 size=3720 all=362134 active=18657 piece=▁교육\n",
      "bpe_model_trainer.cc(258) LOG(INFO) Added: freq=137 size=3740 all=362716 active=19239 piece=사수\n",
      "bpe_model_trainer.cc(258) LOG(INFO) Added: freq=136 size=3760 all=363434 active=19957 piece=성의\n",
      "bpe_model_trainer.cc(258) LOG(INFO) Added: freq=136 size=3780 all=364212 active=20735 piece=▁최고입니다\n",
      "bpe_model_trainer.cc(258) LOG(INFO) Added: freq=134 size=3800 all=365039 active=21562 piece=편에\n",
      "bpe_model_trainer.cc(167) LOG(INFO) Updating active symbols. max_freq=134 min_freq=19\n",
      "bpe_model_trainer.cc(258) LOG(INFO) Added: freq=133 size=3820 all=365462 active=18654 piece=보네\n",
      "bpe_model_trainer.cc(258) LOG(INFO) Added: freq=132 size=3840 all=366210 active=19402 piece=요소\n",
      "bpe_model_trainer.cc(258) LOG(INFO) Added: freq=132 size=3860 all=366617 active=19809 piece=▁볼수있\n",
      "bpe_model_trainer.cc(258) LOG(INFO) Added: freq=131 size=3880 all=367419 active=20611 piece=▁못함\n",
      "bpe_model_trainer.cc(258) LOG(INFO) Added: freq=130 size=3900 all=368026 active=21218 piece=토록\n",
      "bpe_model_trainer.cc(167) LOG(INFO) Updating active symbols. max_freq=130 min_freq=19\n",
      "bpe_model_trainer.cc(258) LOG(INFO) Added: freq=130 size=3920 all=368418 active=18781 piece=▁알겠는데\n",
      "bpe_model_trainer.cc(258) LOG(INFO) Added: freq=129 size=3940 all=369017 active=19380 piece=▁속에서\n",
      "bpe_model_trainer.cc(258) LOG(INFO) Added: freq=128 size=3960 all=369788 active=20151 piece=▁올리\n",
      "bpe_model_trainer.cc(258) LOG(INFO) Added: freq=127 size=3980 all=370415 active=20778 piece=원의\n",
      "bpe_model_trainer.cc(258) LOG(INFO) Added: freq=126 size=4000 all=371080 active=21443 piece=어리\n",
      "bpe_model_trainer.cc(167) LOG(INFO) Updating active symbols. max_freq=126 min_freq=19\n",
      "bpe_model_trainer.cc(258) LOG(INFO) Added: freq=125 size=4020 all=371528 active=18950 piece=▁찰\n",
      "bpe_model_trainer.cc(258) LOG(INFO) Added: freq=125 size=4040 all=372399 active=19821 piece=▁나오지\n",
      "bpe_model_trainer.cc(258) LOG(INFO) Added: freq=124 size=4060 all=372997 active=20419 piece=▁낮게\n",
      "bpe_model_trainer.cc(258) LOG(INFO) Added: freq=123 size=4080 all=373415 active=20837 piece=티브\n",
      "bpe_model_trainer.cc(258) LOG(INFO) Added: freq=122 size=4100 all=374031 active=21453 piece=감은\n",
      "bpe_model_trainer.cc(167) LOG(INFO) Updating active symbols. max_freq=122 min_freq=19\n",
      "bpe_model_trainer.cc(258) LOG(INFO) Added: freq=121 size=4120 all=374520 active=19128 piece=.,\n",
      "bpe_model_trainer.cc(258) LOG(INFO) Added: freq=121 size=4140 all=375070 active=19678 piece=▁관객을\n",
      "bpe_model_trainer.cc(258) LOG(INFO) Added: freq=120 size=4160 all=375768 active=20376 piece=▁어쩜\n",
      "bpe_model_trainer.cc(258) LOG(INFO) Added: freq=119 size=4180 all=376303 active=20911 piece=다는거\n",
      "bpe_model_trainer.cc(258) LOG(INFO) Added: freq=118 size=4200 all=376863 active=21471 piece=능력\n",
      "bpe_model_trainer.cc(167) LOG(INFO) Updating active symbols. max_freq=118 min_freq=18\n",
      "bpe_model_trainer.cc(258) LOG(INFO) Added: freq=117 size=4220 all=377290 active=19188 piece=건만\n",
      "bpe_model_trainer.cc(258) LOG(INFO) Added: freq=117 size=4240 all=377957 active=19855 piece=▁두번째\n",
      "bpe_model_trainer.cc(258) LOG(INFO) Added: freq=116 size=4260 all=378348 active=20246 piece=씨는\n",
      "bpe_model_trainer.cc(258) LOG(INFO) Added: freq=115 size=4280 all=378791 active=20689 piece=▁P\n",
      "bpe_model_trainer.cc(258) LOG(INFO) Added: freq=115 size=4300 all=379404 active=21302 piece=▁나쁘지\n",
      "bpe_model_trainer.cc(167) LOG(INFO) Updating active symbols. max_freq=115 min_freq=18\n",
      "bpe_model_trainer.cc(258) LOG(INFO) Added: freq=114 size=4320 all=379700 active=19266 piece=어린\n",
      "bpe_model_trainer.cc(258) LOG(INFO) Added: freq=114 size=4340 all=380299 active=19865 piece=▁극장가서\n",
      "bpe_model_trainer.cc(258) LOG(INFO) Added: freq=113 size=4360 all=381026 active=20592 piece=정의\n",
      "bpe_model_trainer.cc(258) LOG(INFO) Added: freq=113 size=4380 all=381802 active=21368 piece=▁지나도\n",
      "bpe_model_trainer.cc(258) LOG(INFO) Added: freq=112 size=4400 all=382421 active=21987 piece=▁손에\n",
      "bpe_model_trainer.cc(167) LOG(INFO) Updating active symbols. max_freq=112 min_freq=18\n",
      "bpe_model_trainer.cc(258) LOG(INFO) Added: freq=112 size=4420 all=382881 active=19580 piece=▁생각했는데\n",
      "bpe_model_trainer.cc(258) LOG(INFO) Added: freq=111 size=4440 all=383457 active=20156 piece=연기는\n",
      "bpe_model_trainer.cc(258) LOG(INFO) Added: freq=110 size=4460 all=384239 active=20938 piece=형래\n",
      "bpe_model_trainer.cc(258) LOG(INFO) Added: freq=110 size=4480 all=384643 active=21342 piece=▁보기에는\n",
      "bpe_model_trainer.cc(258) LOG(INFO) Added: freq=109 size=4500 all=385170 active=21869 piece=▁어째\n",
      "bpe_model_trainer.cc(167) LOG(INFO) Updating active symbols. max_freq=109 min_freq=18\n",
      "bpe_model_trainer.cc(258) LOG(INFO) Added: freq=108 size=4520 all=385477 active=19556 piece=공감\n",
      "bpe_model_trainer.cc(258) LOG(INFO) Added: freq=108 size=4540 all=386423 active=20502 piece=▁교훈을\n",
      "bpe_model_trainer.cc(258) LOG(INFO) Added: freq=107 size=4560 all=386740 active=20819 piece=보지\n",
      "bpe_model_trainer.cc(258) LOG(INFO) Added: freq=107 size=4580 all=387522 active=21601 piece=▁러시아\n",
      "bpe_model_trainer.cc(258) LOG(INFO) Added: freq=106 size=4600 all=388032 active=22111 piece=▁개념\n",
      "bpe_model_trainer.cc(167) LOG(INFO) Updating active symbols. max_freq=106 min_freq=17\n",
      "bpe_model_trainer.cc(258) LOG(INFO) Added: freq=106 size=4620 all=388492 active=19834 piece=▁이상의\n",
      "bpe_model_trainer.cc(258) LOG(INFO) Added: freq=105 size=4640 all=389095 active=20437 piece=▁수입\n",
      "bpe_model_trainer.cc(258) LOG(INFO) Added: freq=105 size=4660 all=389606 active=20948 piece=▁제이슨\n",
      "bpe_model_trainer.cc(258) LOG(INFO) Added: freq=104 size=4680 all=390377 active=21719 piece=▁내게\n",
      "bpe_model_trainer.cc(258) LOG(INFO) Added: freq=104 size=4700 all=390896 active=22238 piece=웠습니다\n",
      "bpe_model_trainer.cc(167) LOG(INFO) Updating active symbols. max_freq=104 min_freq=17\n",
      "bpe_model_trainer.cc(258) LOG(INFO) Added: freq=103 size=4720 all=391415 active=20031 piece=▁애기\n",
      "bpe_model_trainer.cc(258) LOG(INFO) Added: freq=103 size=4740 all=391928 active=20544 piece=▁싸우는\n",
      "bpe_model_trainer.cc(258) LOG(INFO) Added: freq=102 size=4760 all=392393 active=21009 piece=▁개성\n",
      "bpe_model_trainer.cc(258) LOG(INFO) Added: freq=102 size=4780 all=392799 active=21415 piece=▁이딴걸\n",
      "bpe_model_trainer.cc(258) LOG(INFO) Added: freq=101 size=4800 all=393190 active=21806 piece=스에\n",
      "bpe_model_trainer.cc(167) LOG(INFO) Updating active symbols. max_freq=101 min_freq=17\n",
      "bpe_model_trainer.cc(258) LOG(INFO) Added: freq=101 size=4820 all=393671 active=20080 piece=▁그자체\n",
      "bpe_model_trainer.cc(258) LOG(INFO) Added: freq=101 size=4840 all=393871 active=20280 piece=▁재미없었다\n",
      "bpe_model_trainer.cc(258) LOG(INFO) Added: freq=100 size=4860 all=394732 active=21141 piece=▁쓰고\n",
      "bpe_model_trainer.cc(258) LOG(INFO) Added: freq=100 size=4880 all=395132 active=21541 piece=▁하다가\n",
      "bpe_model_trainer.cc(258) LOG(INFO) Added: freq=99 size=4900 all=395859 active=22268 piece=쟁이\n",
      "bpe_model_trainer.cc(167) LOG(INFO) Updating active symbols. max_freq=99 min_freq=17\n",
      "bpe_model_trainer.cc(258) LOG(INFO) Added: freq=99 size=4920 all=396288 active=20156 piece=▁영화같\n",
      "bpe_model_trainer.cc(258) LOG(INFO) Added: freq=98 size=4940 all=396790 active=20658 piece=▁디워\n",
      "bpe_model_trainer.cc(258) LOG(INFO) Added: freq=97 size=4960 all=397094 active=20962 piece=▁깡\n",
      "bpe_model_trainer.cc(258) LOG(INFO) Added: freq=97 size=4980 all=397805 active=21673 piece=▁이은\n",
      "bpe_model_trainer.cc(258) LOG(INFO) Added: freq=97 size=5000 all=398354 active=22222 piece=▁마음으로\n",
      "bpe_model_trainer.cc(167) LOG(INFO) Updating active symbols. max_freq=97 min_freq=16\n",
      "bpe_model_trainer.cc(258) LOG(INFO) Added: freq=96 size=5020 all=399169 active=20731 piece=▁다신\n",
      "bpe_model_trainer.cc(258) LOG(INFO) Added: freq=96 size=5040 all=399595 active=21157 piece=▁엔딩이\n",
      "bpe_model_trainer.cc(258) LOG(INFO) Added: freq=95 size=5060 all=399983 active=21545 piece=졸작\n",
      "bpe_model_trainer.cc(258) LOG(INFO) Added: freq=95 size=5080 all=400542 active=22104 piece=▁분들이\n",
      "bpe_model_trainer.cc(258) LOG(INFO) Added: freq=94 size=5100 all=400817 active=22379 piece=개가\n",
      "bpe_model_trainer.cc(167) LOG(INFO) Updating active symbols. max_freq=94 min_freq=16\n",
      "bpe_model_trainer.cc(258) LOG(INFO) Added: freq=94 size=5120 all=401496 active=20681 piece=▁혹은\n",
      "bpe_model_trainer.cc(258) LOG(INFO) Added: freq=93 size=5140 all=401898 active=21083 piece=▁댄\n",
      "bpe_model_trainer.cc(258) LOG(INFO) Added: freq=93 size=5160 all=402479 active=21664 piece=▁떨어짐\n",
      "bpe_model_trainer.cc(258) LOG(INFO) Added: freq=92 size=5180 all=402770 active=21955 piece=세여\n",
      "bpe_model_trainer.cc(258) LOG(INFO) Added: freq=92 size=5200 all=403401 active=22586 piece=▁시간만\n",
      "bpe_model_trainer.cc(167) LOG(INFO) Updating active symbols. max_freq=92 min_freq=16\n",
      "bpe_model_trainer.cc(258) LOG(INFO) Added: freq=91 size=5220 all=403986 active=20747 piece=지네\n",
      "bpe_model_trainer.cc(258) LOG(INFO) Added: freq=91 size=5240 all=404493 active=21254 piece=▁다르다\n",
      "bpe_model_trainer.cc(258) LOG(INFO) Added: freq=90 size=5260 all=404738 active=21499 piece=▁떼\n",
      "bpe_model_trainer.cc(258) LOG(INFO) Added: freq=90 size=5280 all=405502 active=22263 piece=▁맞지\n",
      "bpe_model_trainer.cc(258) LOG(INFO) Added: freq=90 size=5300 all=405889 active=22650 piece=▁이름을\n",
      "bpe_model_trainer.cc(167) LOG(INFO) Updating active symbols. max_freq=90 min_freq=16\n",
      "bpe_model_trainer.cc(258) LOG(INFO) Added: freq=89 size=5320 all=406394 active=20799 piece=상영\n",
      "bpe_model_trainer.cc(258) LOG(INFO) Added: freq=89 size=5340 all=406909 active=21314 piece=▁하아\n",
      "bpe_model_trainer.cc(258) LOG(INFO) Added: freq=88 size=5360 al"
     ]
    }
   ],
   "source": [
    "spm.SentencePieceTrainer.Train('--input=naver_review_cleaned.txt --vocab_size=8000 --model_prefix=naver --model_type=bpe')"
   ]
  },
  {
   "cell_type": "code",
   "execution_count": 36,
   "id": "ee0e3801",
   "metadata": {},
   "outputs": [
    {
     "data": {
      "text/plain": [
       "['naver.vocab',\n",
       " 'goingdeeper-nlp-quest-final.ipynb',\n",
       " 'naver.model',\n",
       " 'goingdeeper-nlp-quest.ipynb',\n",
       " 'README-Copy1.md',\n",
       " 'goingdeeper-nlp-node1.ipynb',\n",
       " 'naver_review_cleaned.txt',\n",
       " '.ipynb_checkpoints']"
      ]
     },
     "execution_count": 36,
     "metadata": {},
     "output_type": "execute_result"
    }
   ],
   "source": [
    "os.listdir('.')"
   ]
  },
  {
   "cell_type": "code",
   "execution_count": 37,
   "id": "52897a46",
   "metadata": {},
   "outputs": [
    {
     "data": {
      "text/html": [
       "<div>\n",
       "<style scoped>\n",
       "    .dataframe tbody tr th:only-of-type {\n",
       "        vertical-align: middle;\n",
       "    }\n",
       "\n",
       "    .dataframe tbody tr th {\n",
       "        vertical-align: top;\n",
       "    }\n",
       "\n",
       "    .dataframe thead th {\n",
       "        text-align: right;\n",
       "    }\n",
       "</style>\n",
       "<table border=\"1\" class=\"dataframe\">\n",
       "  <thead>\n",
       "    <tr style=\"text-align: right;\">\n",
       "      <th></th>\n",
       "      <th>0</th>\n",
       "      <th>1</th>\n",
       "    </tr>\n",
       "  </thead>\n",
       "  <tbody>\n",
       "    <tr>\n",
       "      <th>0</th>\n",
       "      <td>&lt;unk&gt;</td>\n",
       "      <td>0</td>\n",
       "    </tr>\n",
       "    <tr>\n",
       "      <th>1</th>\n",
       "      <td>&lt;s&gt;</td>\n",
       "      <td>0</td>\n",
       "    </tr>\n",
       "    <tr>\n",
       "      <th>2</th>\n",
       "      <td>&lt;/s&gt;</td>\n",
       "      <td>0</td>\n",
       "    </tr>\n",
       "    <tr>\n",
       "      <th>3</th>\n",
       "      <td>..</td>\n",
       "      <td>0</td>\n",
       "    </tr>\n",
       "    <tr>\n",
       "      <th>4</th>\n",
       "      <td>영화</td>\n",
       "      <td>-1</td>\n",
       "    </tr>\n",
       "    <tr>\n",
       "      <th>5</th>\n",
       "      <td>▁영화</td>\n",
       "      <td>-2</td>\n",
       "    </tr>\n",
       "    <tr>\n",
       "      <th>6</th>\n",
       "      <td>▁이</td>\n",
       "      <td>-3</td>\n",
       "    </tr>\n",
       "    <tr>\n",
       "      <th>7</th>\n",
       "      <td>▁아</td>\n",
       "      <td>-4</td>\n",
       "    </tr>\n",
       "    <tr>\n",
       "      <th>8</th>\n",
       "      <td>...</td>\n",
       "      <td>-5</td>\n",
       "    </tr>\n",
       "    <tr>\n",
       "      <th>9</th>\n",
       "      <td>▁그</td>\n",
       "      <td>-6</td>\n",
       "    </tr>\n",
       "  </tbody>\n",
       "</table>\n",
       "</div>"
      ],
      "text/plain": [
       "       0  1\n",
       "0  <unk>  0\n",
       "1    <s>  0\n",
       "2   </s>  0\n",
       "3     ..  0\n",
       "4     영화 -1\n",
       "5    ▁영화 -2\n",
       "6     ▁이 -3\n",
       "7     ▁아 -4\n",
       "8    ... -5\n",
       "9     ▁그 -6"
      ]
     },
     "execution_count": 37,
     "metadata": {},
     "output_type": "execute_result"
    }
   ],
   "source": [
    "vocab_list = pd.read_csv('naver.vocab', sep='\\t', header=None, quoting=csv.QUOTE_NONE)\n",
    "vocab_list[:10]"
   ]
  },
  {
   "cell_type": "markdown",
   "id": "e4427b6b",
   "metadata": {},
   "source": [
    "> spm.SentencePieceProcessor() object \n",
    "1. Load model \n",
    "2. `obj.encode()` that would output the encoded \n",
    "3. `obj.encode_as_ids` that would output the ids"
   ]
  },
  {
   "cell_type": "code",
   "execution_count": 38,
   "id": "8ae312ae",
   "metadata": {},
   "outputs": [],
   "source": [
    "s = spm.SentencePieceProcessor()"
   ]
  },
  {
   "cell_type": "code",
   "execution_count": 39,
   "id": "0c7dbec8",
   "metadata": {},
   "outputs": [
    {
     "data": {
      "text/plain": [
       "True"
      ]
     },
     "execution_count": 39,
     "metadata": {},
     "output_type": "execute_result"
    }
   ],
   "source": [
    "s.Load('naver.model')"
   ]
  },
  {
   "cell_type": "code",
   "execution_count": 40,
   "id": "22944b55",
   "metadata": {},
   "outputs": [
    {
     "data": {
      "text/plain": [
       "[39, 7248, 2400]"
      ]
     },
     "execution_count": 40,
     "metadata": {},
     "output_type": "execute_result"
    }
   ],
   "source": [
    "s.encode('안녕하세요') # encoded subject (encode_as_ids default behavior)"
   ]
  },
  {
   "cell_type": "code",
   "execution_count": 41,
   "id": "e86a9a19",
   "metadata": {},
   "outputs": [],
   "source": [
    "tok_hi = s.encode('안녕하세요')"
   ]
  },
  {
   "cell_type": "code",
   "execution_count": 42,
   "id": "35c939ec",
   "metadata": {},
   "outputs": [
    {
     "data": {
      "text/plain": [
       "['▁안', '녕', '하세요']"
      ]
     },
     "execution_count": 42,
     "metadata": {},
     "output_type": "execute_result"
    }
   ],
   "source": [
    "s.encode('안녕하세요', out_type = str) # encoded subject as string"
   ]
  },
  {
   "cell_type": "code",
   "execution_count": 43,
   "id": "644e040e",
   "metadata": {},
   "outputs": [
    {
     "data": {
      "text/plain": [
       "[39, 7248, 2400]"
      ]
     },
     "execution_count": 43,
     "metadata": {},
     "output_type": "execute_result"
    }
   ],
   "source": [
    "s.encode_as_ids('안녕하세요')"
   ]
  },
  {
   "cell_type": "code",
   "execution_count": 44,
   "id": "702b82d8",
   "metadata": {},
   "outputs": [
    {
     "data": {
      "text/plain": [
       "'안녕하세요'"
      ]
     },
     "execution_count": 44,
     "metadata": {},
     "output_type": "execute_result"
    }
   ],
   "source": [
    "s.decode(tok_hi)"
   ]
  },
  {
   "cell_type": "code",
   "execution_count": 53,
   "id": "87f5ff2c",
   "metadata": {},
   "outputs": [],
   "source": [
    "h = ratingsdf[matched_ind]"
   ]
  },
  {
   "cell_type": "code",
   "execution_count": 56,
   "id": "649da6a1",
   "metadata": {},
   "outputs": [
    {
     "data": {
      "text/html": [
       "<div>\n",
       "<style scoped>\n",
       "    .dataframe tbody tr th:only-of-type {\n",
       "        vertical-align: middle;\n",
       "    }\n",
       "\n",
       "    .dataframe tbody tr th {\n",
       "        vertical-align: top;\n",
       "    }\n",
       "\n",
       "    .dataframe thead th {\n",
       "        text-align: right;\n",
       "    }\n",
       "</style>\n",
       "<table border=\"1\" class=\"dataframe\">\n",
       "  <thead>\n",
       "    <tr style=\"text-align: right;\">\n",
       "      <th></th>\n",
       "      <th>id</th>\n",
       "      <th>label</th>\n",
       "      <th>text</th>\n",
       "      <th>text_len</th>\n",
       "    </tr>\n",
       "  </thead>\n",
       "  <tbody>\n",
       "    <tr>\n",
       "      <th>0</th>\n",
       "      <td>9976970</td>\n",
       "      <td>0</td>\n",
       "      <td>아 더빙.. 진짜 짜증나네요 목소리</td>\n",
       "      <td>19</td>\n",
       "    </tr>\n",
       "    <tr>\n",
       "      <th>1</th>\n",
       "      <td>3819312</td>\n",
       "      <td>1</td>\n",
       "      <td>흠...포스터보고 초딩영화줄....오버연기조차 가볍지 않구나</td>\n",
       "      <td>33</td>\n",
       "    </tr>\n",
       "    <tr>\n",
       "      <th>2</th>\n",
       "      <td>10265843</td>\n",
       "      <td>0</td>\n",
       "      <td>너무재밓었다그래서보는것을추천한다</td>\n",
       "      <td>17</td>\n",
       "    </tr>\n",
       "    <tr>\n",
       "      <th>3</th>\n",
       "      <td>9045019</td>\n",
       "      <td>0</td>\n",
       "      <td>교도소 이야기구먼 ..솔직히 재미는 없다..평점 조정</td>\n",
       "      <td>29</td>\n",
       "    </tr>\n",
       "    <tr>\n",
       "      <th>4</th>\n",
       "      <td>6483659</td>\n",
       "      <td>1</td>\n",
       "      <td>사이몬페그의 익살스런 연기가 돋보였던 영화!스파이더맨에서 늙어보이기만 했던 커스틴 ...</td>\n",
       "      <td>61</td>\n",
       "    </tr>\n",
       "    <tr>\n",
       "      <th>...</th>\n",
       "      <td>...</td>\n",
       "      <td>...</td>\n",
       "      <td>...</td>\n",
       "      <td>...</td>\n",
       "    </tr>\n",
       "    <tr>\n",
       "      <th>49995</th>\n",
       "      <td>4608761</td>\n",
       "      <td>1</td>\n",
       "      <td>오랜만에 평점 로긴했네ㅋㅋ 킹왕짱 쌈뽕한 영화를 만났습니다 강렬하게 육쾌함</td>\n",
       "      <td>41</td>\n",
       "    </tr>\n",
       "    <tr>\n",
       "      <th>49996</th>\n",
       "      <td>5308387</td>\n",
       "      <td>0</td>\n",
       "      <td>의지 박약들이나 하는거다 탈영은 일단 주인공 김대희 닮았고 이등병 찐따 OOOO</td>\n",
       "      <td>44</td>\n",
       "    </tr>\n",
       "    <tr>\n",
       "      <th>49997</th>\n",
       "      <td>9072549</td>\n",
       "      <td>0</td>\n",
       "      <td>그림도 좋고 완성도도 높았지만... 보는 내내 불안하게 만든다</td>\n",
       "      <td>34</td>\n",
       "    </tr>\n",
       "    <tr>\n",
       "      <th>49998</th>\n",
       "      <td>5802125</td>\n",
       "      <td>0</td>\n",
       "      <td>절대 봐서는 안 될 영화.. 재미도 없고 기분만 잡치고.. 한 세트장에서 다 해먹네</td>\n",
       "      <td>46</td>\n",
       "    </tr>\n",
       "    <tr>\n",
       "      <th>49999</th>\n",
       "      <td>6070594</td>\n",
       "      <td>0</td>\n",
       "      <td>마무리는 또 왜이래</td>\n",
       "      <td>10</td>\n",
       "    </tr>\n",
       "  </tbody>\n",
       "</table>\n",
       "<p>181100 rows × 4 columns</p>\n",
       "</div>"
      ],
      "text/plain": [
       "             id  label                                               text  \\\n",
       "0       9976970      0                                아 더빙.. 진짜 짜증나네요 목소리   \n",
       "1       3819312      1                  흠...포스터보고 초딩영화줄....오버연기조차 가볍지 않구나   \n",
       "2      10265843      0                                  너무재밓었다그래서보는것을추천한다   \n",
       "3       9045019      0                      교도소 이야기구먼 ..솔직히 재미는 없다..평점 조정   \n",
       "4       6483659      1  사이몬페그의 익살스런 연기가 돋보였던 영화!스파이더맨에서 늙어보이기만 했던 커스틴 ...   \n",
       "...         ...    ...                                                ...   \n",
       "49995   4608761      1          오랜만에 평점 로긴했네ㅋㅋ 킹왕짱 쌈뽕한 영화를 만났습니다 강렬하게 육쾌함   \n",
       "49996   5308387      0       의지 박약들이나 하는거다 탈영은 일단 주인공 김대희 닮았고 이등병 찐따 OOOO   \n",
       "49997   9072549      0                 그림도 좋고 완성도도 높았지만... 보는 내내 불안하게 만든다   \n",
       "49998   5802125      0     절대 봐서는 안 될 영화.. 재미도 없고 기분만 잡치고.. 한 세트장에서 다 해먹네   \n",
       "49999   6070594      0                                         마무리는 또 왜이래   \n",
       "\n",
       "       text_len  \n",
       "0            19  \n",
       "1            33  \n",
       "2            17  \n",
       "3            29  \n",
       "4            61  \n",
       "...         ...  \n",
       "49995        41  \n",
       "49996        44  \n",
       "49997        34  \n",
       "49998        46  \n",
       "49999        10  \n",
       "\n",
       "[181100 rows x 4 columns]"
      ]
     },
     "execution_count": 56,
     "metadata": {},
     "output_type": "execute_result"
    }
   ],
   "source": [
    "h"
   ]
  },
  {
   "cell_type": "code",
   "execution_count": 57,
   "id": "d462ad36",
   "metadata": {},
   "outputs": [],
   "source": [
    "def tokenize_sp(s: spm.SentencePieceProcessor, corpus:pd.DataFrame):\n",
    "    \"\"\"\n",
    "    Tokenize the sentencepiece ouput. \n",
    "    Use the model and the source dataframe\n",
    "    \"\"\"\n",
    "    tensor = []\n",
    "    for i,row in corpus.iterrows():\n",
    "        tensor.append(s.encode(row['text'])) # text column in well-defined dataframe\n",
    "    word, ind_word = corpus['text'], corpus['id']\n",
    "    ind_corpus = corpus.index.to_list()\n",
    "    tensor = tf.keras.preprocessing.sequence.pad_sequences(tensor, padding='post')\n",
    "    return tensor, ind_word, ind_corpus"
   ]
  },
  {
   "cell_type": "code",
   "execution_count": 58,
   "id": "1eaf3b18",
   "metadata": {},
   "outputs": [],
   "source": [
    "tensor, ind_word, ind_corpus = tokenize_sp(s, corpus = ratingsdf[matched_ind])"
   ]
  },
  {
   "cell_type": "code",
   "execution_count": 59,
   "id": "16ff5227",
   "metadata": {},
   "outputs": [
    {
     "data": {
      "text/plain": [
       "(181100,)"
      ]
     },
     "execution_count": 59,
     "metadata": {},
     "output_type": "execute_result"
    }
   ],
   "source": [
    "ind_word.shape"
   ]
  },
  {
   "cell_type": "code",
   "execution_count": 60,
   "id": "379275cb",
   "metadata": {},
   "outputs": [
    {
     "data": {
      "text/plain": [
       "(181100, 130)"
      ]
     },
     "execution_count": 60,
     "metadata": {},
     "output_type": "execute_result"
    }
   ],
   "source": [
    "tensor.shape"
   ]
  },
  {
   "cell_type": "code",
   "execution_count": 61,
   "id": "31d3a6d3",
   "metadata": {},
   "outputs": [
    {
     "data": {
      "text/plain": [
       "181100"
      ]
     },
     "execution_count": 61,
     "metadata": {},
     "output_type": "execute_result"
    }
   ],
   "source": [
    "len(ind_corpus)"
   ]
  },
  {
   "cell_type": "markdown",
   "id": "a9c5f381",
   "metadata": {},
   "source": [
    "# Split datasets"
   ]
  },
  {
   "cell_type": "code",
   "execution_count": 68,
   "id": "23bc2b16",
   "metadata": {},
   "outputs": [],
   "source": [
    "from sklearn.model_selection import train_test_split\n",
    "\n",
    "filtered_labels = np.array(filtered_labels)\n",
    "X_train, X_test, y_train, y_test = train_test_split(tensor, filtered_labels, test_size=0.2)"
   ]
  },
  {
   "cell_type": "markdown",
   "id": "321d49ee",
   "metadata": {},
   "source": [
    "# Model\n",
    "> Will use `Bahdanau Attention` (introduced in https://wikidocs.net/48920)"
   ]
  },
  {
   "cell_type": "code",
   "execution_count": 85,
   "id": "817173c4",
   "metadata": {},
   "outputs": [],
   "source": [
    "VOCAB_SIZE = 8000\n",
    "MAX_LEN = 130"
   ]
  },
  {
   "cell_type": "code",
   "execution_count": 69,
   "id": "f378fc43",
   "metadata": {},
   "outputs": [],
   "source": [
    "class BahdanauAttention(tf.keras.Model):\n",
    "    def __init__(self, units):\n",
    "        super(BahdanauAttention, self).__init__()\n",
    "        self.W1 = Dense(units)\n",
    "        self.W2 = Dense(units)\n",
    "        self.V = Dense(1)\n",
    "    \n",
    "    def call(self, values, query): # 단, key와 value는 같음\n",
    "    # query shape == (batch_size, hidden size)\n",
    "    # hidden_with_time_axis shape == (batch_size, 1, hidden size)\n",
    "    # score 계산을 위해 뒤에서 할 덧셈을 위해서 차원을 변경해줍니다.\n",
    "        hidden_with_time_axis = tf.expand_dims(query, 1)\n",
    "\n",
    "    # score shape == (batch_size, max_length, 1)\n",
    "    # we get 1 at the last axis because we are applying score to self.V\n",
    "    # the shape of the tensor before applying self.V is (batch_size, max_length, units)\n",
    "        score = self.V(tf.nn.tanh(\n",
    "            self.W1(values) + self.W2(hidden_with_time_axis)))\n",
    "\n",
    "    # attention_weights shape == (batch_size, max_length, 1)\n",
    "        attention_weights = tf.nn.softmax(score, axis=1)\n",
    "\n",
    "    # context_vector shape after sum == (batch_size, hidden_size)\n",
    "        context_vector = attention_weights * values\n",
    "        context_vector = tf.reduce_sum(context_vector, axis=1)\n",
    "\n",
    "        return context_vector, attention_weights"
   ]
  },
  {
   "cell_type": "code",
   "execution_count": 70,
   "id": "76b5fa55",
   "metadata": {},
   "outputs": [],
   "source": [
    "from tensorflow.keras.layers import Dense, Embedding, Bidirectional, LSTM, Concatenate, Dropout\n",
    "from tensorflow.keras import Input, Model\n",
    "from tensorflow.keras import optimizers\n",
    "import os"
   ]
  },
  {
   "cell_type": "code",
   "execution_count": 87,
   "id": "c8271b9e",
   "metadata": {},
   "outputs": [],
   "source": [
    "sequence_input = Input(shape=(MAX_LEN,), dtype='int32')\n",
    "embedded_sequences = Embedding(VOCAB_SIZE, 128, input_length=max_len, mask_zero = True)(sequence_input)"
   ]
  },
  {
   "cell_type": "code",
   "execution_count": 88,
   "id": "daa4e72b",
   "metadata": {},
   "outputs": [],
   "source": [
    "lstm = Bidirectional(LSTM(64, dropout=0.5, return_sequences = True))(embedded_sequences)"
   ]
  },
  {
   "cell_type": "code",
   "execution_count": 89,
   "id": "04156609",
   "metadata": {},
   "outputs": [],
   "source": [
    "lstm, forward_h, forward_c, backward_h, backward_c = Bidirectional \\\n",
    "  (LSTM(64, dropout=0.5, return_sequences=True, return_state=True))(lstm)\n"
   ]
  },
  {
   "cell_type": "code",
   "execution_count": 90,
   "id": "d3d467bb",
   "metadata": {},
   "outputs": [
    {
     "name": "stdout",
     "output_type": "stream",
     "text": [
      "(None, 130, 128) (None, 64) (None, 64) (None, 64) (None, 64)\n"
     ]
    }
   ],
   "source": [
    "print(lstm.shape, forward_h.shape, forward_c.shape, backward_h.shape, backward_c.shape)\n"
   ]
  },
  {
   "cell_type": "code",
   "execution_count": 91,
   "id": "7ec93b6a",
   "metadata": {},
   "outputs": [],
   "source": [
    "state_h = Concatenate()([forward_h, backward_h]) # 은닉 상태\n",
    "state_c = Concatenate()([forward_c, backward_c]) # 셀 상태"
   ]
  },
  {
   "cell_type": "code",
   "execution_count": 92,
   "id": "bf5014ca",
   "metadata": {},
   "outputs": [],
   "source": [
    "attention = BahdanauAttention(64) # 가중치 크기 정의\n",
    "context_vector, attention_weights = attention(lstm, state_h)"
   ]
  },
  {
   "cell_type": "code",
   "execution_count": 93,
   "id": "4c632142",
   "metadata": {},
   "outputs": [],
   "source": [
    "dense1 = Dense(20, activation=\"relu\")(context_vector)\n",
    "dropout = Dropout(0.5)(dense1)\n",
    "output = Dense(1, activation=\"sigmoid\")(dropout)\n",
    "model = Model(inputs=sequence_input, outputs=output)"
   ]
  },
  {
   "cell_type": "markdown",
   "id": "f78e46a7",
   "metadata": {},
   "source": [
    "- Loss: Binary CrossEntropy #binary_ce\n",
    "- Optimizer: Adam\n",
    "- Metrics: Accuracy"
   ]
  },
  {
   "cell_type": "code",
   "execution_count": 94,
   "id": "6cdeefe3",
   "metadata": {},
   "outputs": [],
   "source": [
    "model.compile(loss='binary_crossentropy', optimizer='adam', metrics=['accuracy'])"
   ]
  },
  {
   "cell_type": "code",
   "execution_count": 95,
   "id": "d4664971",
   "metadata": {},
   "outputs": [
    {
     "name": "stdout",
     "output_type": "stream",
     "text": [
      "Epoch 1/3\n",
      "566/566 [==============================] - 721s 1s/step - loss: 0.4451 - accuracy: 0.7977 - val_loss: 0.3433 - val_accuracy: 0.8490\n",
      "Epoch 2/3\n",
      "566/566 [==============================] - 672s 1s/step - loss: 0.3467 - accuracy: 0.8571 - val_loss: 0.3293 - val_accuracy: 0.8565\n",
      "Epoch 3/3\n",
      "566/566 [==============================] - 670s 1s/step - loss: 0.3178 - accuracy: 0.8686 - val_loss: 0.3219 - val_accuracy: 0.8606\n"
     ]
    }
   ],
   "source": [
    "history = model.fit(X_train, y_train, epochs = 3, batch_size = 256, validation_data=(X_test, y_test), verbose=1)"
   ]
  },
  {
   "cell_type": "code",
   "execution_count": 96,
   "id": "ee869b30",
   "metadata": {},
   "outputs": [
    {
     "name": "stdout",
     "output_type": "stream",
     "text": [
      "1132/1132 [==============================] - 56s 50ms/step - loss: 0.3219 - accuracy: 0.8606\n",
      "\n",
      " 테스트 정확도: 0.8606\n"
     ]
    }
   ],
   "source": [
    "print(\"\\n 테스트 정확도: %.4f\" % (model.evaluate(X_test, y_test)[1]))"
   ]
  },
  {
   "cell_type": "markdown",
   "id": "1f01b4a4",
   "metadata": {},
   "source": [
    "# SentencePiece 성능 비교"
   ]
  },
  {
   "cell_type": "code",
   "execution_count": null,
   "id": "c5c03bf3",
   "metadata": {},
   "outputs": [],
   "source": []
  },
  {
   "cell_type": "markdown",
   "id": "6a4c6928",
   "metadata": {},
   "source": [
    "# 회고록 \n",
    "- Train이 아예 되질 않았다 \n",
    "    - vocab_size 를 줄여서 하고, 토큰나이져 function을 조금 변경하였더니 되었다\n",
    "- Text 전처리 연구를 조금 더 해야하겠다 \n",
    "- 모델링을 위한 input data 넣는 법 도 공부를 해야하겠다"
   ]
  },
  {
   "cell_type": "code",
   "execution_count": null,
   "id": "bf40f7c1",
   "metadata": {},
   "outputs": [],
   "source": []
  }
 ],
 "metadata": {
  "kernelspec": {
   "display_name": "Python 3 (ipykernel)",
   "language": "python",
   "name": "python3"
  },
  "language_info": {
   "codemirror_mode": {
    "name": "ipython",
    "version": 3
   },
   "file_extension": ".py",
   "mimetype": "text/x-python",
   "name": "python",
   "nbconvert_exporter": "python",
   "pygments_lexer": "ipython3",
   "version": "3.9.7"
  }
 },
 "nbformat": 4,
 "nbformat_minor": 5
}
